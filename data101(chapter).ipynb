{
  "nbformat": 4,
  "nbformat_minor": 0,
  "metadata": {
    "colab": {
      "name": "data101(chapter).ipynb",
      "provenance": [],
      "authorship_tag": "ABX9TyPSqiNHN+qbatFtbNsiFBH9",
      "include_colab_link": true
    },
    "kernelspec": {
      "name": "python3",
      "display_name": "Python 3"
    },
    "language_info": {
      "name": "python"
    }
  },
  "cells": [
    {
      "cell_type": "markdown",
      "metadata": {
        "id": "view-in-github",
        "colab_type": "text"
      },
      "source": [
        "<a href=\"https://colab.research.google.com/github/Phruetti/DPDM65/blob/main/data101(chapter).ipynb\" target=\"_parent\"><img src=\"https://colab.research.google.com/assets/colab-badge.svg\" alt=\"Open In Colab\"/></a>"
      ]
    },
    {
      "cell_type": "markdown",
      "source": [
        "pandas คือ ใช้จัดการข้อมูลแบบตาราง ซึ่งใน pandas เรียกว่า data frame\n"
      ],
      "metadata": {
        "id": "rlIzmpceKlIb"
      }
    },
    {
      "cell_type": "code",
      "execution_count": 4,
      "metadata": {
        "id": "zcEYDpitJaAg"
      },
      "outputs": [],
      "source": [
        "import pandas # ใช้จัดการข้อมูลแบบตาราง"
      ]
    },
    {
      "cell_type": "code",
      "source": [
        "import pandas as pd #เปลี่ยนชื่อจาก panda เป็น pd"
      ],
      "metadata": {
        "id": "eH-M0AwyKcxb"
      },
      "execution_count": 5,
      "outputs": []
    },
    {
      "cell_type": "markdown",
      "source": [
        "ไฟล์.csv"
      ],
      "metadata": {
        "id": "3X2VQpx_L2lD"
      }
    },
    {
      "cell_type": "code",
      "source": [
        "data = pd.read_csv('data.csv')"
      ],
      "metadata": {
        "id": "ctCqFknUONQP"
      },
      "execution_count": 6,
      "outputs": []
    },
    {
      "cell_type": "code",
      "source": [
        "data"
      ],
      "metadata": {
        "colab": {
          "base_uri": "https://localhost:8080/",
          "height": 112
        },
        "id": "uaFlBRkAO9TV",
        "outputId": "1ef83899-5a9c-4de9-e757-80df02b584f0"
      },
      "execution_count": 7,
      "outputs": [
        {
          "output_type": "execute_result",
          "data": {
            "text/plain": [
              "   car_id          \\tmodel  \\tyear  \\tvalue  \\tpers_id\n",
              "0     101        \\tbentler    1973   100000          0\n",
              "1     102  \\tRolls Royce\\t    1965   330000          0"
            ],
            "text/html": [
              "\n",
              "  <div id=\"df-f912bc2a-0fa8-4a79-8924-6c4f54741c15\">\n",
              "    <div class=\"colab-df-container\">\n",
              "      <div>\n",
              "<style scoped>\n",
              "    .dataframe tbody tr th:only-of-type {\n",
              "        vertical-align: middle;\n",
              "    }\n",
              "\n",
              "    .dataframe tbody tr th {\n",
              "        vertical-align: top;\n",
              "    }\n",
              "\n",
              "    .dataframe thead th {\n",
              "        text-align: right;\n",
              "    }\n",
              "</style>\n",
              "<table border=\"1\" class=\"dataframe\">\n",
              "  <thead>\n",
              "    <tr style=\"text-align: right;\">\n",
              "      <th></th>\n",
              "      <th>car_id</th>\n",
              "      <th>\\tmodel</th>\n",
              "      <th>\\tyear</th>\n",
              "      <th>\\tvalue</th>\n",
              "      <th>\\tpers_id</th>\n",
              "    </tr>\n",
              "  </thead>\n",
              "  <tbody>\n",
              "    <tr>\n",
              "      <th>0</th>\n",
              "      <td>101</td>\n",
              "      <td>\\tbentler</td>\n",
              "      <td>1973</td>\n",
              "      <td>100000</td>\n",
              "      <td>0</td>\n",
              "    </tr>\n",
              "    <tr>\n",
              "      <th>1</th>\n",
              "      <td>102</td>\n",
              "      <td>\\tRolls Royce\\t</td>\n",
              "      <td>1965</td>\n",
              "      <td>330000</td>\n",
              "      <td>0</td>\n",
              "    </tr>\n",
              "  </tbody>\n",
              "</table>\n",
              "</div>\n",
              "      <button class=\"colab-df-convert\" onclick=\"convertToInteractive('df-f912bc2a-0fa8-4a79-8924-6c4f54741c15')\"\n",
              "              title=\"Convert this dataframe to an interactive table.\"\n",
              "              style=\"display:none;\">\n",
              "        \n",
              "  <svg xmlns=\"http://www.w3.org/2000/svg\" height=\"24px\"viewBox=\"0 0 24 24\"\n",
              "       width=\"24px\">\n",
              "    <path d=\"M0 0h24v24H0V0z\" fill=\"none\"/>\n",
              "    <path d=\"M18.56 5.44l.94 2.06.94-2.06 2.06-.94-2.06-.94-.94-2.06-.94 2.06-2.06.94zm-11 1L8.5 8.5l.94-2.06 2.06-.94-2.06-.94L8.5 2.5l-.94 2.06-2.06.94zm10 10l.94 2.06.94-2.06 2.06-.94-2.06-.94-.94-2.06-.94 2.06-2.06.94z\"/><path d=\"M17.41 7.96l-1.37-1.37c-.4-.4-.92-.59-1.43-.59-.52 0-1.04.2-1.43.59L10.3 9.45l-7.72 7.72c-.78.78-.78 2.05 0 2.83L4 21.41c.39.39.9.59 1.41.59.51 0 1.02-.2 1.41-.59l7.78-7.78 2.81-2.81c.8-.78.8-2.07 0-2.86zM5.41 20L4 18.59l7.72-7.72 1.47 1.35L5.41 20z\"/>\n",
              "  </svg>\n",
              "      </button>\n",
              "      \n",
              "  <style>\n",
              "    .colab-df-container {\n",
              "      display:flex;\n",
              "      flex-wrap:wrap;\n",
              "      gap: 12px;\n",
              "    }\n",
              "\n",
              "    .colab-df-convert {\n",
              "      background-color: #E8F0FE;\n",
              "      border: none;\n",
              "      border-radius: 50%;\n",
              "      cursor: pointer;\n",
              "      display: none;\n",
              "      fill: #1967D2;\n",
              "      height: 32px;\n",
              "      padding: 0 0 0 0;\n",
              "      width: 32px;\n",
              "    }\n",
              "\n",
              "    .colab-df-convert:hover {\n",
              "      background-color: #E2EBFA;\n",
              "      box-shadow: 0px 1px 2px rgba(60, 64, 67, 0.3), 0px 1px 3px 1px rgba(60, 64, 67, 0.15);\n",
              "      fill: #174EA6;\n",
              "    }\n",
              "\n",
              "    [theme=dark] .colab-df-convert {\n",
              "      background-color: #3B4455;\n",
              "      fill: #D2E3FC;\n",
              "    }\n",
              "\n",
              "    [theme=dark] .colab-df-convert:hover {\n",
              "      background-color: #434B5C;\n",
              "      box-shadow: 0px 1px 3px 1px rgba(0, 0, 0, 0.15);\n",
              "      filter: drop-shadow(0px 1px 2px rgba(0, 0, 0, 0.3));\n",
              "      fill: #FFFFFF;\n",
              "    }\n",
              "  </style>\n",
              "\n",
              "      <script>\n",
              "        const buttonEl =\n",
              "          document.querySelector('#df-f912bc2a-0fa8-4a79-8924-6c4f54741c15 button.colab-df-convert');\n",
              "        buttonEl.style.display =\n",
              "          google.colab.kernel.accessAllowed ? 'block' : 'none';\n",
              "\n",
              "        async function convertToInteractive(key) {\n",
              "          const element = document.querySelector('#df-f912bc2a-0fa8-4a79-8924-6c4f54741c15');\n",
              "          const dataTable =\n",
              "            await google.colab.kernel.invokeFunction('convertToInteractive',\n",
              "                                                     [key], {});\n",
              "          if (!dataTable) return;\n",
              "\n",
              "          const docLinkHtml = 'Like what you see? Visit the ' +\n",
              "            '<a target=\"_blank\" href=https://colab.research.google.com/notebooks/data_table.ipynb>data table notebook</a>'\n",
              "            + ' to learn more about interactive tables.';\n",
              "          element.innerHTML = '';\n",
              "          dataTable['output_type'] = 'display_data';\n",
              "          await google.colab.output.renderOutput(dataTable, element);\n",
              "          const docLink = document.createElement('div');\n",
              "          docLink.innerHTML = docLinkHtml;\n",
              "          element.appendChild(docLink);\n",
              "        }\n",
              "      </script>\n",
              "    </div>\n",
              "  </div>\n",
              "  "
            ]
          },
          "metadata": {},
          "execution_count": 7
        }
      ]
    },
    {
      "cell_type": "code",
      "source": [
        "data_df2=pd.read_csv('data.csv')\n",
        "data_df2"
      ],
      "metadata": {
        "id": "fmiLFp8QO_ki",
        "outputId": "c88d1929-19f1-4eda-e36f-eb86cc8ea4ea",
        "colab": {
          "base_uri": "https://localhost:8080/",
          "height": 112
        }
      },
      "execution_count": 8,
      "outputs": [
        {
          "output_type": "execute_result",
          "data": {
            "text/plain": [
              "   car_id          \\tmodel  \\tyear  \\tvalue  \\tpers_id\n",
              "0     101        \\tbentler    1973   100000          0\n",
              "1     102  \\tRolls Royce\\t    1965   330000          0"
            ],
            "text/html": [
              "\n",
              "  <div id=\"df-77bfa5ce-a195-41cf-82e6-8ba0b331e1f5\">\n",
              "    <div class=\"colab-df-container\">\n",
              "      <div>\n",
              "<style scoped>\n",
              "    .dataframe tbody tr th:only-of-type {\n",
              "        vertical-align: middle;\n",
              "    }\n",
              "\n",
              "    .dataframe tbody tr th {\n",
              "        vertical-align: top;\n",
              "    }\n",
              "\n",
              "    .dataframe thead th {\n",
              "        text-align: right;\n",
              "    }\n",
              "</style>\n",
              "<table border=\"1\" class=\"dataframe\">\n",
              "  <thead>\n",
              "    <tr style=\"text-align: right;\">\n",
              "      <th></th>\n",
              "      <th>car_id</th>\n",
              "      <th>\\tmodel</th>\n",
              "      <th>\\tyear</th>\n",
              "      <th>\\tvalue</th>\n",
              "      <th>\\tpers_id</th>\n",
              "    </tr>\n",
              "  </thead>\n",
              "  <tbody>\n",
              "    <tr>\n",
              "      <th>0</th>\n",
              "      <td>101</td>\n",
              "      <td>\\tbentler</td>\n",
              "      <td>1973</td>\n",
              "      <td>100000</td>\n",
              "      <td>0</td>\n",
              "    </tr>\n",
              "    <tr>\n",
              "      <th>1</th>\n",
              "      <td>102</td>\n",
              "      <td>\\tRolls Royce\\t</td>\n",
              "      <td>1965</td>\n",
              "      <td>330000</td>\n",
              "      <td>0</td>\n",
              "    </tr>\n",
              "  </tbody>\n",
              "</table>\n",
              "</div>\n",
              "      <button class=\"colab-df-convert\" onclick=\"convertToInteractive('df-77bfa5ce-a195-41cf-82e6-8ba0b331e1f5')\"\n",
              "              title=\"Convert this dataframe to an interactive table.\"\n",
              "              style=\"display:none;\">\n",
              "        \n",
              "  <svg xmlns=\"http://www.w3.org/2000/svg\" height=\"24px\"viewBox=\"0 0 24 24\"\n",
              "       width=\"24px\">\n",
              "    <path d=\"M0 0h24v24H0V0z\" fill=\"none\"/>\n",
              "    <path d=\"M18.56 5.44l.94 2.06.94-2.06 2.06-.94-2.06-.94-.94-2.06-.94 2.06-2.06.94zm-11 1L8.5 8.5l.94-2.06 2.06-.94-2.06-.94L8.5 2.5l-.94 2.06-2.06.94zm10 10l.94 2.06.94-2.06 2.06-.94-2.06-.94-.94-2.06-.94 2.06-2.06.94z\"/><path d=\"M17.41 7.96l-1.37-1.37c-.4-.4-.92-.59-1.43-.59-.52 0-1.04.2-1.43.59L10.3 9.45l-7.72 7.72c-.78.78-.78 2.05 0 2.83L4 21.41c.39.39.9.59 1.41.59.51 0 1.02-.2 1.41-.59l7.78-7.78 2.81-2.81c.8-.78.8-2.07 0-2.86zM5.41 20L4 18.59l7.72-7.72 1.47 1.35L5.41 20z\"/>\n",
              "  </svg>\n",
              "      </button>\n",
              "      \n",
              "  <style>\n",
              "    .colab-df-container {\n",
              "      display:flex;\n",
              "      flex-wrap:wrap;\n",
              "      gap: 12px;\n",
              "    }\n",
              "\n",
              "    .colab-df-convert {\n",
              "      background-color: #E8F0FE;\n",
              "      border: none;\n",
              "      border-radius: 50%;\n",
              "      cursor: pointer;\n",
              "      display: none;\n",
              "      fill: #1967D2;\n",
              "      height: 32px;\n",
              "      padding: 0 0 0 0;\n",
              "      width: 32px;\n",
              "    }\n",
              "\n",
              "    .colab-df-convert:hover {\n",
              "      background-color: #E2EBFA;\n",
              "      box-shadow: 0px 1px 2px rgba(60, 64, 67, 0.3), 0px 1px 3px 1px rgba(60, 64, 67, 0.15);\n",
              "      fill: #174EA6;\n",
              "    }\n",
              "\n",
              "    [theme=dark] .colab-df-convert {\n",
              "      background-color: #3B4455;\n",
              "      fill: #D2E3FC;\n",
              "    }\n",
              "\n",
              "    [theme=dark] .colab-df-convert:hover {\n",
              "      background-color: #434B5C;\n",
              "      box-shadow: 0px 1px 3px 1px rgba(0, 0, 0, 0.15);\n",
              "      filter: drop-shadow(0px 1px 2px rgba(0, 0, 0, 0.3));\n",
              "      fill: #FFFFFF;\n",
              "    }\n",
              "  </style>\n",
              "\n",
              "      <script>\n",
              "        const buttonEl =\n",
              "          document.querySelector('#df-77bfa5ce-a195-41cf-82e6-8ba0b331e1f5 button.colab-df-convert');\n",
              "        buttonEl.style.display =\n",
              "          google.colab.kernel.accessAllowed ? 'block' : 'none';\n",
              "\n",
              "        async function convertToInteractive(key) {\n",
              "          const element = document.querySelector('#df-77bfa5ce-a195-41cf-82e6-8ba0b331e1f5');\n",
              "          const dataTable =\n",
              "            await google.colab.kernel.invokeFunction('convertToInteractive',\n",
              "                                                     [key], {});\n",
              "          if (!dataTable) return;\n",
              "\n",
              "          const docLinkHtml = 'Like what you see? Visit the ' +\n",
              "            '<a target=\"_blank\" href=https://colab.research.google.com/notebooks/data_table.ipynb>data table notebook</a>'\n",
              "            + ' to learn more about interactive tables.';\n",
              "          element.innerHTML = '';\n",
              "          dataTable['output_type'] = 'display_data';\n",
              "          await google.colab.output.renderOutput(dataTable, element);\n",
              "          const docLink = document.createElement('div');\n",
              "          docLink.innerHTML = docLinkHtml;\n",
              "          element.appendChild(docLink);\n",
              "        }\n",
              "      </script>\n",
              "    </div>\n",
              "  </div>\n",
              "  "
            ]
          },
          "metadata": {},
          "execution_count": 8
        }
      ]
    },
    {
      "cell_type": "markdown",
      "source": [
        "#bisic python"
      ],
      "metadata": {
        "id": "rZu0V7manfzz"
      }
    },
    {
      "cell_type": "markdown",
      "source": [
        "##variable ตัวแปร คือ กล่องสำหรับเก็บข้อมูล\n"
      ],
      "metadata": {
        "id": "lvj-q2-2nyvf"
      }
    },
    {
      "cell_type": "markdown",
      "source": [
        "###ข้อกำหนดในการตั้งชื่อตัวแปร\n",
        "####1 ชื่อห้ามเว้นวรรค\n",
        "####2 (พยายาม) ใช้าภาษาอังกฤษ\n",
        "####3 ตัวเล็กกับตัวใหญ่แตกต่างกัน (scse sensitive)\n",
        "####4 ห้ามใช้ตัวเลขเป็นตัวหน้า"
      ],
      "metadata": {
        "id": "9Zgq2DY3pTwV"
      }
    },
    {
      "cell_type": "code",
      "source": [
        "variable_a=12 #ชื่อห้ามเว้นวรรค\n",
        "variable_b=3.14\n",
        "variable_c='A' #'(quote) ไม่สามารถ +-8/ wfh\n",
        "variable_d='Msc stat kku'\n",
        "variable_e='5'"
      ],
      "metadata": {
        "id": "7W-bQ3xHoEmK"
      },
      "execution_count": 35,
      "outputs": []
    },
    {
      "cell_type": "code",
      "source": [
        "ตัวแปรเอ=123\n"
      ],
      "metadata": {
        "id": "OsPhLoALntaB"
      },
      "execution_count": 9,
      "outputs": []
    },
    {
      "cell_type": "code",
      "source": [
        "ตัวแปรเอ"
      ],
      "metadata": {
        "id": "1vmQbCF4qtG6",
        "outputId": "033108b6-dcfd-4ba7-c512-967d1be838ab",
        "colab": {
          "base_uri": "https://localhost:8080/"
        }
      },
      "execution_count": 10,
      "outputs": [
        {
          "output_type": "execute_result",
          "data": {
            "text/plain": [
              "123"
            ]
          },
          "metadata": {},
          "execution_count": 10
        }
      ]
    },
    {
      "cell_type": "code",
      "source": [
        "Cat=1\n",
        "cat=2"
      ],
      "metadata": {
        "id": "hFxuSG0eqx1T"
      },
      "execution_count": 11,
      "outputs": []
    },
    {
      "cell_type": "code",
      "source": [
        "Cat"
      ],
      "metadata": {
        "id": "RgBq_YrWq3zj",
        "outputId": "db29c093-19aa-461a-af24-6edf162d86e6",
        "colab": {
          "base_uri": "https://localhost:8080/"
        }
      },
      "execution_count": 12,
      "outputs": [
        {
          "output_type": "execute_result",
          "data": {
            "text/plain": [
              "1"
            ]
          },
          "metadata": {},
          "execution_count": 12
        }
      ]
    },
    {
      "cell_type": "code",
      "source": [
        "cat"
      ],
      "metadata": {
        "id": "P1KgBZPZq6fa",
        "outputId": "45fbe0da-5b57-4e50-9349-fe0e0499397d",
        "colab": {
          "base_uri": "https://localhost:8080/"
        }
      },
      "execution_count": 13,
      "outputs": [
        {
          "output_type": "execute_result",
          "data": {
            "text/plain": [
              "2"
            ]
          },
          "metadata": {},
          "execution_count": 13
        }
      ]
    },
    {
      "cell_type": "code",
      "source": [
        "1cat=3"
      ],
      "metadata": {
        "id": "8jS8Xf-4q-Ei",
        "outputId": "59b6afbd-3f8e-431e-c400-e1bf316bcac7",
        "colab": {
          "base_uri": "https://localhost:8080/",
          "height": 131
        }
      },
      "execution_count": 14,
      "outputs": [
        {
          "output_type": "error",
          "ename": "SyntaxError",
          "evalue": "ignored",
          "traceback": [
            "\u001b[0;36m  File \u001b[0;32m\"<ipython-input-14-037ba3962c49>\"\u001b[0;36m, line \u001b[0;32m1\u001b[0m\n\u001b[0;31m    1cat=3\u001b[0m\n\u001b[0m       ^\u001b[0m\n\u001b[0;31mSyntaxError\u001b[0m\u001b[0;31m:\u001b[0m invalid syntax\n"
          ]
        }
      ]
    },
    {
      "cell_type": "code",
      "source": [
        "variable_x = variable_a + variable_b"
      ],
      "metadata": {
        "id": "2PS9-wb5rp3e"
      },
      "execution_count": 19,
      "outputs": []
    },
    {
      "cell_type": "code",
      "source": [
        "variable_x"
      ],
      "metadata": {
        "id": "fbBU87-LsBU8",
        "outputId": "4a8b6113-d28b-4f6e-c791-4f8d3c4d0160",
        "colab": {
          "base_uri": "https://localhost:8080/"
        }
      },
      "execution_count": 20,
      "outputs": [
        {
          "output_type": "execute_result",
          "data": {
            "text/plain": [
              "15.14"
            ]
          },
          "metadata": {},
          "execution_count": 20
        }
      ]
    },
    {
      "cell_type": "code",
      "source": [
        "variable_a + variable_b #ข้อเสียไม่มีกล่องเก็บ"
      ],
      "metadata": {
        "id": "vWfyFhH9sKTg",
        "outputId": "5e41a07b-86a2-4e7d-94a9-44f8a4c6f50a",
        "colab": {
          "base_uri": "https://localhost:8080/"
        }
      },
      "execution_count": 21,
      "outputs": [
        {
          "output_type": "execute_result",
          "data": {
            "text/plain": [
              "15.14"
            ]
          },
          "metadata": {},
          "execution_count": 21
        }
      ]
    },
    {
      "cell_type": "code",
      "source": [
        "variable_x = variable_a + variable_b + 10\n",
        "variable_x"
      ],
      "metadata": {
        "id": "0w6Q8jWksWDb",
        "outputId": "ec615688-d8b5-443d-a2dc-1332645c68de",
        "colab": {
          "base_uri": "https://localhost:8080/"
        }
      },
      "execution_count": 23,
      "outputs": [
        {
          "output_type": "execute_result",
          "data": {
            "text/plain": [
              "25.14"
            ]
          },
          "metadata": {},
          "execution_count": 23
        }
      ]
    },
    {
      "cell_type": "code",
      "source": [
        "print( variable_a + variable_b + 10) #ไม่ทำอะไรต่อ"
      ],
      "metadata": {
        "id": "Md1-rGUqtKzv",
        "outputId": "1c59a69a-45f3-4ef1-d8bf-aa28fb4f95f9",
        "colab": {
          "base_uri": "https://localhost:8080/"
        }
      },
      "execution_count": 24,
      "outputs": [
        {
          "output_type": "stream",
          "name": "stdout",
          "text": [
            "25.14\n"
          ]
        }
      ]
    },
    {
      "cell_type": "code",
      "source": [
        "variable_z=variable_a\n",
        "print(variable_z)"
      ],
      "metadata": {
        "id": "ymxq0hPftlU7",
        "outputId": "3edf9efa-b407-4053-805d-e62c91fab879",
        "colab": {
          "base_uri": "https://localhost:8080/"
        }
      },
      "execution_count": 25,
      "outputs": [
        {
          "output_type": "stream",
          "name": "stdout",
          "text": [
            "12\n"
          ]
        }
      ]
    },
    {
      "cell_type": "code",
      "source": [
        "variable_a = variable_a + 3\n",
        "print(variable_a)\n",
        "print(variable_z)\n"
      ],
      "metadata": {
        "id": "9HeCfh86t3Q7",
        "outputId": "8548217d-a3c4-4372-c9ce-739de0f1e53c",
        "colab": {
          "base_uri": "https://localhost:8080/"
        }
      },
      "execution_count": 38,
      "outputs": [
        {
          "output_type": "stream",
          "name": "stdout",
          "text": [
            "15\n",
            "12\n"
          ]
        }
      ]
    },
    {
      "cell_type": "code",
      "source": [
        "print(variable_a)\n",
        "print(variable_z)"
      ],
      "metadata": {
        "id": "cCBsRl_lusw_",
        "outputId": "cf936ccd-5fbc-45ad-97af-b37580f42c97",
        "colab": {
          "base_uri": "https://localhost:8080/"
        }
      },
      "execution_count": 33,
      "outputs": [
        {
          "output_type": "stream",
          "name": "stdout",
          "text": [
            "33\n",
            "12\n"
          ]
        }
      ]
    },
    {
      "cell_type": "code",
      "source": [
        "variable_c + variable_d"
      ],
      "metadata": {
        "id": "Hn-QQzl3voB-",
        "outputId": "836416c1-9764-4705-ec96-1d386214b165",
        "colab": {
          "base_uri": "https://localhost:8080/",
          "height": 35
        }
      },
      "execution_count": 34,
      "outputs": [
        {
          "output_type": "execute_result",
          "data": {
            "text/plain": [
              "'AMsc stat kku'"
            ],
            "application/vnd.google.colaboratory.intrinsic+json": {
              "type": "string"
            }
          },
          "metadata": {},
          "execution_count": 34
        }
      ]
    },
    {
      "cell_type": "markdown",
      "source": [
        "casting int() float() str() แก้ตัวแปร"
      ],
      "metadata": {
        "id": "1n3r-duxv6iY"
      }
    },
    {
      "cell_type": "code",
      "source": [
        "variable_a + variable_e"
      ],
      "metadata": {
        "id": "Rs5rqr5Awplj",
        "outputId": "91960a0d-733e-40df-cb44-09d51e65230c",
        "colab": {
          "base_uri": "https://localhost:8080/",
          "height": 166
        }
      },
      "execution_count": 36,
      "outputs": [
        {
          "output_type": "error",
          "ename": "TypeError",
          "evalue": "ignored",
          "traceback": [
            "\u001b[0;31m---------------------------------------------------------------------------\u001b[0m",
            "\u001b[0;31mTypeError\u001b[0m                                 Traceback (most recent call last)",
            "\u001b[0;32m<ipython-input-36-ba0a07afe52f>\u001b[0m in \u001b[0;36m<module>\u001b[0;34m()\u001b[0m\n\u001b[0;32m----> 1\u001b[0;31m \u001b[0mvariable_a\u001b[0m \u001b[0;34m+\u001b[0m \u001b[0mvariable_e\u001b[0m\u001b[0;34m\u001b[0m\u001b[0;34m\u001b[0m\u001b[0m\n\u001b[0m",
            "\u001b[0;31mTypeError\u001b[0m: unsupported operand type(s) for +: 'int' and 'str'"
          ]
        }
      ]
    },
    {
      "cell_type": "code",
      "source": [
        "variable_a + int(variable_e)"
      ],
      "metadata": {
        "id": "o4Un3NliwxR3",
        "outputId": "2542f146-235c-4036-d1d7-daadd3e7613f",
        "colab": {
          "base_uri": "https://localhost:8080/"
        }
      },
      "execution_count": 39,
      "outputs": [
        {
          "output_type": "execute_result",
          "data": {
            "text/plain": [
              "20"
            ]
          },
          "metadata": {},
          "execution_count": 39
        }
      ]
    },
    {
      "cell_type": "code",
      "source": [
        "variable_e + str(variable_a)"
      ],
      "metadata": {
        "id": "wMZj8zv4w805",
        "outputId": "1b4c7fda-8bcc-428d-b293-f5272ad0fb81",
        "colab": {
          "base_uri": "https://localhost:8080/",
          "height": 35
        }
      },
      "execution_count": 40,
      "outputs": [
        {
          "output_type": "execute_result",
          "data": {
            "text/plain": [
              "'515'"
            ],
            "application/vnd.google.colaboratory.intrinsic+json": {
              "type": "string"
            }
          },
          "metadata": {},
          "execution_count": 40
        }
      ]
    },
    {
      "cell_type": "code",
      "source": [
        "#ดูตรวจสอบชนิดตัวแปร type\n",
        "type(variable_e)"
      ],
      "metadata": {
        "id": "7Ikwrx2Exq4J",
        "outputId": "b2786d8b-9111-4c4d-bf24-85dc8cfc2f31",
        "colab": {
          "base_uri": "https://localhost:8080/"
        }
      },
      "execution_count": 41,
      "outputs": [
        {
          "output_type": "execute_result",
          "data": {
            "text/plain": [
              "str"
            ]
          },
          "metadata": {},
          "execution_count": 41
        }
      ]
    },
    {
      "cell_type": "markdown",
      "source": [
        "data structure  คือ โครงสร้างข้อมูล ให้เป็นกลุ่มเป็นก้อน เช่น เมทริกซ์ งานสับซ้อน "
      ],
      "metadata": {
        "id": "F4movtxmyH6d"
      }
    },
    {
      "cell_type": "markdown",
      "source": [
        "list"
      ],
      "metadata": {
        "id": "-LBRlwk4yoa_"
      }
    },
    {
      "cell_type": "code",
      "source": [
        "list_a=[1,2,3,0.9,'aaz',variable_b] # (square brackets)\n",
        "list_a"
      ],
      "metadata": {
        "id": "AePrp6fBykSc",
        "outputId": "dca423b2-b67b-498d-9814-e0663cebea80",
        "colab": {
          "base_uri": "https://localhost:8080/"
        }
      },
      "execution_count": 42,
      "outputs": [
        {
          "output_type": "execute_result",
          "data": {
            "text/plain": [
              "[1, 2, 3, 0.9, 'aaz', 3.14]"
            ]
          },
          "metadata": {},
          "execution_count": 42
        }
      ]
    },
    {
      "cell_type": "code",
      "source": [
        "list_a[5]"
      ],
      "metadata": {
        "id": "jpk0xou-yjJd",
        "outputId": "a5fea37e-cdf1-4e0f-f3eb-272bded00beb",
        "colab": {
          "base_uri": "https://localhost:8080/"
        }
      },
      "execution_count": 43,
      "outputs": [
        {
          "output_type": "execute_result",
          "data": {
            "text/plain": [
              "3.14"
            ]
          },
          "metadata": {},
          "execution_count": 43
        }
      ]
    },
    {
      "cell_type": "code",
      "source": [
        "list_a[0]"
      ],
      "metadata": {
        "id": "8WFEJiihzTwM",
        "outputId": "05ff8466-8d55-4f29-ee82-af032937fdcb",
        "colab": {
          "base_uri": "https://localhost:8080/"
        }
      },
      "execution_count": 44,
      "outputs": [
        {
          "output_type": "execute_result",
          "data": {
            "text/plain": [
              "1"
            ]
          },
          "metadata": {},
          "execution_count": 44
        }
      ]
    },
    {
      "cell_type": "markdown",
      "source": [
        "negatvie index ชี้จากข้างหลัง"
      ],
      "metadata": {
        "id": "smZpPgnszhO3"
      }
    },
    {
      "cell_type": "code",
      "source": [
        "list_a[-2]"
      ],
      "metadata": {
        "id": "JvFCrP0JzYKK",
        "outputId": "0b38b9a9-52e2-4cfe-ba4e-31a83db1266e",
        "colab": {
          "base_uri": "https://localhost:8080/",
          "height": 35
        }
      },
      "execution_count": 45,
      "outputs": [
        {
          "output_type": "execute_result",
          "data": {
            "text/plain": [
              "'aaz'"
            ],
            "application/vnd.google.colaboratory.intrinsic+json": {
              "type": "string"
            }
          },
          "metadata": {},
          "execution_count": 45
        }
      ]
    },
    {
      "cell_type": "code",
      "source": [
        "list_b = ['pizza',list_a]\n",
        "list_b"
      ],
      "metadata": {
        "id": "hQtS4BahzxON",
        "outputId": "b83752d9-f035-4f68-c9d3-02a57b086346",
        "colab": {
          "base_uri": "https://localhost:8080/"
        }
      },
      "execution_count": 49,
      "outputs": [
        {
          "output_type": "execute_result",
          "data": {
            "text/plain": [
              "['pizza', [1, 2, 3, 0.9, 'aaz', 3.14]]"
            ]
          },
          "metadata": {},
          "execution_count": 49
        }
      ]
    },
    {
      "cell_type": "code",
      "source": [
        "list_b[1][3]"
      ],
      "metadata": {
        "id": "oZJcYx9r0KLq",
        "outputId": "3579c100-fe6f-4739-f751-bfbc1708f211",
        "colab": {
          "base_uri": "https://localhost:8080/"
        }
      },
      "execution_count": 50,
      "outputs": [
        {
          "output_type": "execute_result",
          "data": {
            "text/plain": [
              "0.9"
            ]
          },
          "metadata": {},
          "execution_count": 50
        }
      ]
    },
    {
      "cell_type": "markdown",
      "source": [
        "string คือ list ของตัวอักษร"
      ],
      "metadata": {
        "id": "foAmZARd0VeT"
      }
    },
    {
      "cell_type": "code",
      "source": [
        "x = 'shabu'\n",
        "x[3]"
      ],
      "metadata": {
        "id": "G1_t1wIv0e_o",
        "outputId": "e4b47850-b214-40c1-f787-26f83e79f0c6",
        "colab": {
          "base_uri": "https://localhost:8080/",
          "height": 35
        }
      },
      "execution_count": 51,
      "outputs": [
        {
          "output_type": "execute_result",
          "data": {
            "text/plain": [
              "'b'"
            ],
            "application/vnd.google.colaboratory.intrinsic+json": {
              "type": "string"
            }
          },
          "metadata": {},
          "execution_count": 51
        }
      ]
    },
    {
      "cell_type": "code",
      "source": [
        "print(list_a)\n",
        "print(list_b)"
      ],
      "metadata": {
        "id": "1TAw8kbs0--l",
        "outputId": "38d09028-f540-4f1c-d50a-f4d8e6ba86f7",
        "colab": {
          "base_uri": "https://localhost:8080/"
        }
      },
      "execution_count": 53,
      "outputs": [
        {
          "output_type": "stream",
          "name": "stdout",
          "text": [
            "[1, 2, 3, 0.9, 'aaz', 3.14]\n",
            "['pizza', [1, 2, 3, 0.9, 'aaz', 3.14]]\n"
          ]
        }
      ]
    },
    {
      "cell_type": "code",
      "source": [
        "list_a + list_b"
      ],
      "metadata": {
        "id": "FJCZ4Z1A1Lna",
        "outputId": "0eca075f-c890-44df-a0f1-c22e9fa38676",
        "colab": {
          "base_uri": "https://localhost:8080/"
        }
      },
      "execution_count": 54,
      "outputs": [
        {
          "output_type": "execute_result",
          "data": {
            "text/plain": [
              "[1, 2, 3, 0.9, 'aaz', 3.14, 'pizza', [1, 2, 3, 0.9, 'aaz', 3.14]]"
            ]
          },
          "metadata": {},
          "execution_count": 54
        }
      ]
    },
    {
      "cell_type": "markdown",
      "source": [
        "วิธีการสร้าง list\n",
        "######1 สร้าง list ว่าง\n",
        "######2 เพิ่มสมาชิกลงไปใน list"
      ],
      "metadata": {
        "id": "jQBjYE6T1Tbf"
      }
    },
    {
      "cell_type": "code",
      "source": [
        "# 1 สร้าง list ว่าง\n",
        "list_aa=[]\n",
        "list_aa"
      ],
      "metadata": {
        "id": "XvYopp2K1v5-",
        "outputId": "21482b9e-98cb-4cc4-98f2-73cb59250195",
        "colab": {
          "base_uri": "https://localhost:8080/"
        }
      },
      "execution_count": 57,
      "outputs": [
        {
          "output_type": "execute_result",
          "data": {
            "text/plain": [
              "[]"
            ]
          },
          "metadata": {},
          "execution_count": 57
        }
      ]
    },
    {
      "cell_type": "code",
      "source": [
        "# 2 การเพิ่มสามาชิกลงไปใน list (.append())\n",
        "list_aa.append('chiken')\n",
        "list_aa.append('water')\n",
        "list_aa.append('vegetable')"
      ],
      "metadata": {
        "id": "4Frw1QeQ2D-H"
      },
      "execution_count": 58,
      "outputs": []
    },
    {
      "cell_type": "code",
      "source": [
        "list_aa"
      ],
      "metadata": {
        "id": "OPPC2FYG2qU9",
        "outputId": "136acd33-17d9-4dce-ac81-c887be1acc6d",
        "colab": {
          "base_uri": "https://localhost:8080/"
        }
      },
      "execution_count": 59,
      "outputs": [
        {
          "output_type": "execute_result",
          "data": {
            "text/plain": [
              "['chiken', 'water', 'vegetable']"
            ]
          },
          "metadata": {},
          "execution_count": 59
        }
      ]
    },
    {
      "cell_type": "code",
      "source": [
        "list_aa[-1]"
      ],
      "metadata": {
        "id": "7f4uMJCm2s7N",
        "outputId": "7d7c1230-94b5-4e71-cba2-36a3e0b77fc5",
        "colab": {
          "base_uri": "https://localhost:8080/",
          "height": 35
        }
      },
      "execution_count": 61,
      "outputs": [
        {
          "output_type": "execute_result",
          "data": {
            "text/plain": [
              "'vegetable'"
            ],
            "application/vnd.google.colaboratory.intrinsic+json": {
              "type": "string"
            }
          },
          "metadata": {},
          "execution_count": 61
        }
      ]
    },
    {
      "cell_type": "code",
      "source": [
        "list_aa.append('plate')"
      ],
      "metadata": {
        "id": "hpDX4Fz156mH"
      },
      "execution_count": 65,
      "outputs": []
    },
    {
      "cell_type": "markdown",
      "source": [
        "### list slicing\n",
        "##### ถ้าเราตัดlist โดยเอาตั้งแต่[ตัวหน้า:ตัวก่อนตัวหลัง]\n",
        "##### ถ้าเป็นสัญญาลักษณ์คณิตศาสตร์[ตัวหน้า:ตัวหลัง]->[ตัวหน้า,ตัวหลัง)"
      ],
      "metadata": {
        "id": "Mp__riCB4TXH"
      }
    },
    {
      "cell_type": "code",
      "source": [
        "list_aa"
      ],
      "metadata": {
        "id": "yfZsGYO04X5J",
        "outputId": "4ea49043-e379-4fe2-f516-6d39ffa3c6fe",
        "colab": {
          "base_uri": "https://localhost:8080/"
        }
      },
      "execution_count": 66,
      "outputs": [
        {
          "output_type": "execute_result",
          "data": {
            "text/plain": [
              "['chiken', 'water', 'vegetable', 'plate']"
            ]
          },
          "metadata": {},
          "execution_count": 66
        }
      ]
    },
    {
      "cell_type": "code",
      "source": [
        "list_aa[1:3]"
      ],
      "metadata": {
        "id": "CIRgIucK40CL",
        "outputId": "4faa1359-37ed-4649-e688-6b6e7d9d3394",
        "colab": {
          "base_uri": "https://localhost:8080/"
        }
      },
      "execution_count": 67,
      "outputs": [
        {
          "output_type": "execute_result",
          "data": {
            "text/plain": [
              "['water', 'vegetable']"
            ]
          },
          "metadata": {},
          "execution_count": 67
        }
      ]
    },
    {
      "cell_type": "markdown",
      "source": [
        "Quiz 1\n",
        "ตัวส่วนของ list เหล่านี้มาจาก list_aa\n",
        "\n",
        "1 'iken'\n",
        "\n",
        "2 'get\n",
        "\n",
        "3 'tab'"
      ],
      "metadata": {
        "id": "lQIIcArs7h2X"
      }
    },
    {
      "cell_type": "code",
      "source": [
        "list_aa[0]"
      ],
      "metadata": {
        "id": "CZSQ5Who7eml",
        "outputId": "589ef740-0e89-4a5f-a021-74d980757cee",
        "colab": {
          "base_uri": "https://localhost:8080/",
          "height": 35
        }
      },
      "execution_count": 68,
      "outputs": [
        {
          "output_type": "execute_result",
          "data": {
            "text/plain": [
              "'chiken'"
            ],
            "application/vnd.google.colaboratory.intrinsic+json": {
              "type": "string"
            }
          },
          "metadata": {},
          "execution_count": 68
        }
      ]
    },
    {
      "cell_type": "code",
      "source": [
        "list_aa[0][2:6]"
      ],
      "metadata": {
        "id": "EpAyyPG89y8O",
        "outputId": "5384679a-f78d-42d3-8b51-e09dd502089c",
        "colab": {
          "base_uri": "https://localhost:8080/",
          "height": 35
        }
      },
      "execution_count": 69,
      "outputs": [
        {
          "output_type": "execute_result",
          "data": {
            "text/plain": [
              "'iken'"
            ],
            "application/vnd.google.colaboratory.intrinsic+json": {
              "type": "string"
            }
          },
          "metadata": {},
          "execution_count": 69
        }
      ]
    },
    {
      "cell_type": "code",
      "source": [
        "list_aa[2][2:5]"
      ],
      "metadata": {
        "id": "8S_4Q9EW-A1V",
        "outputId": "f6ae54a2-010f-4bf7-923c-1e4693eb0c76",
        "colab": {
          "base_uri": "https://localhost:8080/",
          "height": 35
        }
      },
      "execution_count": 70,
      "outputs": [
        {
          "output_type": "execute_result",
          "data": {
            "text/plain": [
              "'get'"
            ],
            "application/vnd.google.colaboratory.intrinsic+json": {
              "type": "string"
            }
          },
          "metadata": {},
          "execution_count": 70
        }
      ]
    },
    {
      "cell_type": "code",
      "source": [
        "list_aa[2][4:7]"
      ],
      "metadata": {
        "id": "aB8LKRwS-NqD",
        "outputId": "92b67b3b-6bad-4f5f-8055-958627d33e5b",
        "colab": {
          "base_uri": "https://localhost:8080/",
          "height": 35
        }
      },
      "execution_count": 72,
      "outputs": [
        {
          "output_type": "execute_result",
          "data": {
            "text/plain": [
              "'tab'"
            ],
            "application/vnd.google.colaboratory.intrinsic+json": {
              "type": "string"
            }
          },
          "metadata": {},
          "execution_count": 72
        }
      ]
    },
    {
      "cell_type": "code",
      "source": [
        "\n",
        "#เรียนต่อ\n",
        "list_aa[-1][1:]"
      ],
      "metadata": {
        "id": "Aq1Mp6HG-76e",
        "outputId": "02c5ad9e-946c-425f-c1a6-91bfaa6a4a54",
        "colab": {
          "base_uri": "https://localhost:8080/",
          "height": 35
        }
      },
      "execution_count": 73,
      "outputs": [
        {
          "output_type": "execute_result",
          "data": {
            "text/plain": [
              "'late'"
            ],
            "application/vnd.google.colaboratory.intrinsic+json": {
              "type": "string"
            }
          },
          "metadata": {},
          "execution_count": 73
        }
      ]
    },
    {
      "cell_type": "code",
      "source": [
        "list_aa[1][:3]"
      ],
      "metadata": {
        "id": "oZiWdq7U_L30",
        "outputId": "93acc9de-6492-479a-f1fb-70dffd3e60a2",
        "colab": {
          "base_uri": "https://localhost:8080/",
          "height": 35
        }
      },
      "execution_count": 74,
      "outputs": [
        {
          "output_type": "execute_result",
          "data": {
            "text/plain": [
              "'wat'"
            ],
            "application/vnd.google.colaboratory.intrinsic+json": {
              "type": "string"
            }
          },
          "metadata": {},
          "execution_count": 74
        }
      ]
    }
  ]
}