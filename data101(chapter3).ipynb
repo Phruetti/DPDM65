{
  "nbformat": 4,
  "nbformat_minor": 0,
  "metadata": {
    "colab": {
      "name": "data101(chapter).ipynb",
      "provenance": [],
      "authorship_tag": "ABX9TyPwB8fFsvdVHeLw0yau+XFT",
      "include_colab_link": true
    },
    "kernelspec": {
      "name": "python3",
      "display_name": "Python 3"
    },
    "language_info": {
      "name": "python"
    }
  },
  "cells": [
    {
      "cell_type": "markdown",
      "metadata": {
        "id": "view-in-github",
        "colab_type": "text"
      },
      "source": [
        "<a href=\"https://colab.research.google.com/github/Phruetti/DPDM65/blob/main/data101(chapter3).ipynb\" target=\"_parent\"><img src=\"https://colab.research.google.com/assets/colab-badge.svg\" alt=\"Open In Colab\"/></a>"
      ]
    },
    {
      "cell_type": "markdown",
      "source": [
        "pandas คือ ใช้จัดการข้อมูลแบบตาราง ซึ่งใน pandas เรียกว่า data frame\n"
      ],
      "metadata": {
        "id": "rlIzmpceKlIb"
      }
    },
    {
      "cell_type": "code",
      "execution_count": null,
      "metadata": {
        "id": "zcEYDpitJaAg"
      },
      "outputs": [],
      "source": [
        "import pandas # ใช้จัดการข้อมูลแบบตาราง"
      ]
    },
    {
      "cell_type": "code",
      "source": [
        "import pandas as pd #เปลี่ยนชื่อจาก panda เป็น pd"
      ],
      "metadata": {
        "id": "eH-M0AwyKcxb"
      },
      "execution_count": null,
      "outputs": []
    },
    {
      "cell_type": "markdown",
      "source": [
        "ไฟล์.csv"
      ],
      "metadata": {
        "id": "3X2VQpx_L2lD"
      }
    },
    {
      "cell_type": "code",
      "source": [
        "data = pd.read_csv('data.csv')"
      ],
      "metadata": {
        "id": "ctCqFknUONQP"
      },
      "execution_count": null,
      "outputs": []
    },
    {
      "cell_type": "code",
      "source": [
        "data"
      ],
      "metadata": {
        "colab": {
          "base_uri": "https://localhost:8080/",
          "height": 112
        },
        "id": "uaFlBRkAO9TV",
        "outputId": "022d2e4a-3278-4854-8d6d-6a16c91b06e0"
      },
      "execution_count": null,
      "outputs": [
        {
          "output_type": "execute_result",
          "data": {
            "text/plain": [
              "   car_id          \\tmodel  \\tyear  \\tvalue  \\tpers_id\n",
              "0     101        \\tbentler    1973   100000          0\n",
              "1     102  \\tRolls Royce\\t    1965   330000          0"
            ],
            "text/html": [
              "\n",
              "  <div id=\"df-a29b5a72-2458-4273-aafd-5302cab5e86a\">\n",
              "    <div class=\"colab-df-container\">\n",
              "      <div>\n",
              "<style scoped>\n",
              "    .dataframe tbody tr th:only-of-type {\n",
              "        vertical-align: middle;\n",
              "    }\n",
              "\n",
              "    .dataframe tbody tr th {\n",
              "        vertical-align: top;\n",
              "    }\n",
              "\n",
              "    .dataframe thead th {\n",
              "        text-align: right;\n",
              "    }\n",
              "</style>\n",
              "<table border=\"1\" class=\"dataframe\">\n",
              "  <thead>\n",
              "    <tr style=\"text-align: right;\">\n",
              "      <th></th>\n",
              "      <th>car_id</th>\n",
              "      <th>\\tmodel</th>\n",
              "      <th>\\tyear</th>\n",
              "      <th>\\tvalue</th>\n",
              "      <th>\\tpers_id</th>\n",
              "    </tr>\n",
              "  </thead>\n",
              "  <tbody>\n",
              "    <tr>\n",
              "      <th>0</th>\n",
              "      <td>101</td>\n",
              "      <td>\\tbentler</td>\n",
              "      <td>1973</td>\n",
              "      <td>100000</td>\n",
              "      <td>0</td>\n",
              "    </tr>\n",
              "    <tr>\n",
              "      <th>1</th>\n",
              "      <td>102</td>\n",
              "      <td>\\tRolls Royce\\t</td>\n",
              "      <td>1965</td>\n",
              "      <td>330000</td>\n",
              "      <td>0</td>\n",
              "    </tr>\n",
              "  </tbody>\n",
              "</table>\n",
              "</div>\n",
              "      <button class=\"colab-df-convert\" onclick=\"convertToInteractive('df-a29b5a72-2458-4273-aafd-5302cab5e86a')\"\n",
              "              title=\"Convert this dataframe to an interactive table.\"\n",
              "              style=\"display:none;\">\n",
              "        \n",
              "  <svg xmlns=\"http://www.w3.org/2000/svg\" height=\"24px\"viewBox=\"0 0 24 24\"\n",
              "       width=\"24px\">\n",
              "    <path d=\"M0 0h24v24H0V0z\" fill=\"none\"/>\n",
              "    <path d=\"M18.56 5.44l.94 2.06.94-2.06 2.06-.94-2.06-.94-.94-2.06-.94 2.06-2.06.94zm-11 1L8.5 8.5l.94-2.06 2.06-.94-2.06-.94L8.5 2.5l-.94 2.06-2.06.94zm10 10l.94 2.06.94-2.06 2.06-.94-2.06-.94-.94-2.06-.94 2.06-2.06.94z\"/><path d=\"M17.41 7.96l-1.37-1.37c-.4-.4-.92-.59-1.43-.59-.52 0-1.04.2-1.43.59L10.3 9.45l-7.72 7.72c-.78.78-.78 2.05 0 2.83L4 21.41c.39.39.9.59 1.41.59.51 0 1.02-.2 1.41-.59l7.78-7.78 2.81-2.81c.8-.78.8-2.07 0-2.86zM5.41 20L4 18.59l7.72-7.72 1.47 1.35L5.41 20z\"/>\n",
              "  </svg>\n",
              "      </button>\n",
              "      \n",
              "  <style>\n",
              "    .colab-df-container {\n",
              "      display:flex;\n",
              "      flex-wrap:wrap;\n",
              "      gap: 12px;\n",
              "    }\n",
              "\n",
              "    .colab-df-convert {\n",
              "      background-color: #E8F0FE;\n",
              "      border: none;\n",
              "      border-radius: 50%;\n",
              "      cursor: pointer;\n",
              "      display: none;\n",
              "      fill: #1967D2;\n",
              "      height: 32px;\n",
              "      padding: 0 0 0 0;\n",
              "      width: 32px;\n",
              "    }\n",
              "\n",
              "    .colab-df-convert:hover {\n",
              "      background-color: #E2EBFA;\n",
              "      box-shadow: 0px 1px 2px rgba(60, 64, 67, 0.3), 0px 1px 3px 1px rgba(60, 64, 67, 0.15);\n",
              "      fill: #174EA6;\n",
              "    }\n",
              "\n",
              "    [theme=dark] .colab-df-convert {\n",
              "      background-color: #3B4455;\n",
              "      fill: #D2E3FC;\n",
              "    }\n",
              "\n",
              "    [theme=dark] .colab-df-convert:hover {\n",
              "      background-color: #434B5C;\n",
              "      box-shadow: 0px 1px 3px 1px rgba(0, 0, 0, 0.15);\n",
              "      filter: drop-shadow(0px 1px 2px rgba(0, 0, 0, 0.3));\n",
              "      fill: #FFFFFF;\n",
              "    }\n",
              "  </style>\n",
              "\n",
              "      <script>\n",
              "        const buttonEl =\n",
              "          document.querySelector('#df-a29b5a72-2458-4273-aafd-5302cab5e86a button.colab-df-convert');\n",
              "        buttonEl.style.display =\n",
              "          google.colab.kernel.accessAllowed ? 'block' : 'none';\n",
              "\n",
              "        async function convertToInteractive(key) {\n",
              "          const element = document.querySelector('#df-a29b5a72-2458-4273-aafd-5302cab5e86a');\n",
              "          const dataTable =\n",
              "            await google.colab.kernel.invokeFunction('convertToInteractive',\n",
              "                                                     [key], {});\n",
              "          if (!dataTable) return;\n",
              "\n",
              "          const docLinkHtml = 'Like what you see? Visit the ' +\n",
              "            '<a target=\"_blank\" href=https://colab.research.google.com/notebooks/data_table.ipynb>data table notebook</a>'\n",
              "            + ' to learn more about interactive tables.';\n",
              "          element.innerHTML = '';\n",
              "          dataTable['output_type'] = 'display_data';\n",
              "          await google.colab.output.renderOutput(dataTable, element);\n",
              "          const docLink = document.createElement('div');\n",
              "          docLink.innerHTML = docLinkHtml;\n",
              "          element.appendChild(docLink);\n",
              "        }\n",
              "      </script>\n",
              "    </div>\n",
              "  </div>\n",
              "  "
            ]
          },
          "metadata": {},
          "execution_count": 90
        }
      ]
    },
    {
      "cell_type": "code",
      "source": [
        "data_df2=pd.read_csv('data.csv')\n",
        "data_df2"
      ],
      "metadata": {
        "id": "fmiLFp8QO_ki",
        "outputId": "1f6983eb-93d5-4556-d5ed-0a327b917848",
        "colab": {
          "base_uri": "https://localhost:8080/",
          "height": 112
        }
      },
      "execution_count": null,
      "outputs": [
        {
          "output_type": "execute_result",
          "data": {
            "text/plain": [
              "   car_id          \\tmodel  \\tyear  \\tvalue  \\tpers_id\n",
              "0     101        \\tbentler    1973   100000          0\n",
              "1     102  \\tRolls Royce\\t    1965   330000          0"
            ],
            "text/html": [
              "\n",
              "  <div id=\"df-8ec6e744-48dc-42b4-8c58-47df07dd74fe\">\n",
              "    <div class=\"colab-df-container\">\n",
              "      <div>\n",
              "<style scoped>\n",
              "    .dataframe tbody tr th:only-of-type {\n",
              "        vertical-align: middle;\n",
              "    }\n",
              "\n",
              "    .dataframe tbody tr th {\n",
              "        vertical-align: top;\n",
              "    }\n",
              "\n",
              "    .dataframe thead th {\n",
              "        text-align: right;\n",
              "    }\n",
              "</style>\n",
              "<table border=\"1\" class=\"dataframe\">\n",
              "  <thead>\n",
              "    <tr style=\"text-align: right;\">\n",
              "      <th></th>\n",
              "      <th>car_id</th>\n",
              "      <th>\\tmodel</th>\n",
              "      <th>\\tyear</th>\n",
              "      <th>\\tvalue</th>\n",
              "      <th>\\tpers_id</th>\n",
              "    </tr>\n",
              "  </thead>\n",
              "  <tbody>\n",
              "    <tr>\n",
              "      <th>0</th>\n",
              "      <td>101</td>\n",
              "      <td>\\tbentler</td>\n",
              "      <td>1973</td>\n",
              "      <td>100000</td>\n",
              "      <td>0</td>\n",
              "    </tr>\n",
              "    <tr>\n",
              "      <th>1</th>\n",
              "      <td>102</td>\n",
              "      <td>\\tRolls Royce\\t</td>\n",
              "      <td>1965</td>\n",
              "      <td>330000</td>\n",
              "      <td>0</td>\n",
              "    </tr>\n",
              "  </tbody>\n",
              "</table>\n",
              "</div>\n",
              "      <button class=\"colab-df-convert\" onclick=\"convertToInteractive('df-8ec6e744-48dc-42b4-8c58-47df07dd74fe')\"\n",
              "              title=\"Convert this dataframe to an interactive table.\"\n",
              "              style=\"display:none;\">\n",
              "        \n",
              "  <svg xmlns=\"http://www.w3.org/2000/svg\" height=\"24px\"viewBox=\"0 0 24 24\"\n",
              "       width=\"24px\">\n",
              "    <path d=\"M0 0h24v24H0V0z\" fill=\"none\"/>\n",
              "    <path d=\"M18.56 5.44l.94 2.06.94-2.06 2.06-.94-2.06-.94-.94-2.06-.94 2.06-2.06.94zm-11 1L8.5 8.5l.94-2.06 2.06-.94-2.06-.94L8.5 2.5l-.94 2.06-2.06.94zm10 10l.94 2.06.94-2.06 2.06-.94-2.06-.94-.94-2.06-.94 2.06-2.06.94z\"/><path d=\"M17.41 7.96l-1.37-1.37c-.4-.4-.92-.59-1.43-.59-.52 0-1.04.2-1.43.59L10.3 9.45l-7.72 7.72c-.78.78-.78 2.05 0 2.83L4 21.41c.39.39.9.59 1.41.59.51 0 1.02-.2 1.41-.59l7.78-7.78 2.81-2.81c.8-.78.8-2.07 0-2.86zM5.41 20L4 18.59l7.72-7.72 1.47 1.35L5.41 20z\"/>\n",
              "  </svg>\n",
              "      </button>\n",
              "      \n",
              "  <style>\n",
              "    .colab-df-container {\n",
              "      display:flex;\n",
              "      flex-wrap:wrap;\n",
              "      gap: 12px;\n",
              "    }\n",
              "\n",
              "    .colab-df-convert {\n",
              "      background-color: #E8F0FE;\n",
              "      border: none;\n",
              "      border-radius: 50%;\n",
              "      cursor: pointer;\n",
              "      display: none;\n",
              "      fill: #1967D2;\n",
              "      height: 32px;\n",
              "      padding: 0 0 0 0;\n",
              "      width: 32px;\n",
              "    }\n",
              "\n",
              "    .colab-df-convert:hover {\n",
              "      background-color: #E2EBFA;\n",
              "      box-shadow: 0px 1px 2px rgba(60, 64, 67, 0.3), 0px 1px 3px 1px rgba(60, 64, 67, 0.15);\n",
              "      fill: #174EA6;\n",
              "    }\n",
              "\n",
              "    [theme=dark] .colab-df-convert {\n",
              "      background-color: #3B4455;\n",
              "      fill: #D2E3FC;\n",
              "    }\n",
              "\n",
              "    [theme=dark] .colab-df-convert:hover {\n",
              "      background-color: #434B5C;\n",
              "      box-shadow: 0px 1px 3px 1px rgba(0, 0, 0, 0.15);\n",
              "      filter: drop-shadow(0px 1px 2px rgba(0, 0, 0, 0.3));\n",
              "      fill: #FFFFFF;\n",
              "    }\n",
              "  </style>\n",
              "\n",
              "      <script>\n",
              "        const buttonEl =\n",
              "          document.querySelector('#df-8ec6e744-48dc-42b4-8c58-47df07dd74fe button.colab-df-convert');\n",
              "        buttonEl.style.display =\n",
              "          google.colab.kernel.accessAllowed ? 'block' : 'none';\n",
              "\n",
              "        async function convertToInteractive(key) {\n",
              "          const element = document.querySelector('#df-8ec6e744-48dc-42b4-8c58-47df07dd74fe');\n",
              "          const dataTable =\n",
              "            await google.colab.kernel.invokeFunction('convertToInteractive',\n",
              "                                                     [key], {});\n",
              "          if (!dataTable) return;\n",
              "\n",
              "          const docLinkHtml = 'Like what you see? Visit the ' +\n",
              "            '<a target=\"_blank\" href=https://colab.research.google.com/notebooks/data_table.ipynb>data table notebook</a>'\n",
              "            + ' to learn more about interactive tables.';\n",
              "          element.innerHTML = '';\n",
              "          dataTable['output_type'] = 'display_data';\n",
              "          await google.colab.output.renderOutput(dataTable, element);\n",
              "          const docLink = document.createElement('div');\n",
              "          docLink.innerHTML = docLinkHtml;\n",
              "          element.appendChild(docLink);\n",
              "        }\n",
              "      </script>\n",
              "    </div>\n",
              "  </div>\n",
              "  "
            ]
          },
          "metadata": {},
          "execution_count": 91
        }
      ]
    },
    {
      "cell_type": "markdown",
      "source": [
        "#bisic python"
      ],
      "metadata": {
        "id": "rZu0V7manfzz"
      }
    },
    {
      "cell_type": "markdown",
      "source": [
        "##variable ตัวแปร คือ กล่องสำหรับเก็บข้อมูล\n"
      ],
      "metadata": {
        "id": "lvj-q2-2nyvf"
      }
    },
    {
      "cell_type": "markdown",
      "source": [
        "###ข้อกำหนดในการตั้งชื่อตัวแปร\n",
        "####1 ชื่อห้ามเว้นวรรค\n",
        "####2 (พยายาม) ใช้าภาษาอังกฤษ\n",
        "####3 ตัวเล็กกับตัวใหญ่แตกต่างกัน (scse sensitive)\n",
        "####4 ห้ามใช้ตัวเลขเป็นตัวหน้า"
      ],
      "metadata": {
        "id": "9Zgq2DY3pTwV"
      }
    },
    {
      "cell_type": "code",
      "source": [
        "variable_a=12 #ชื่อห้ามเว้นวรรค\n",
        "variable_b=3.14\n",
        "variable_c='A' #'(quote) ไม่สามารถ +-8/ wfh\n",
        "variable_d='Msc stat kku'\n",
        "variable_e='5'"
      ],
      "metadata": {
        "id": "7W-bQ3xHoEmK"
      },
      "execution_count": null,
      "outputs": []
    },
    {
      "cell_type": "code",
      "source": [
        "ตัวแปรเอ=123\n"
      ],
      "metadata": {
        "id": "OsPhLoALntaB"
      },
      "execution_count": null,
      "outputs": []
    },
    {
      "cell_type": "code",
      "source": [
        "ตัวแปรเอ"
      ],
      "metadata": {
        "id": "1vmQbCF4qtG6",
        "outputId": "717909d2-72a4-49d6-f84b-c7d0cf6a57dc",
        "colab": {
          "base_uri": "https://localhost:8080/"
        }
      },
      "execution_count": null,
      "outputs": [
        {
          "output_type": "execute_result",
          "data": {
            "text/plain": [
              "123"
            ]
          },
          "metadata": {},
          "execution_count": 94
        }
      ]
    },
    {
      "cell_type": "code",
      "source": [
        "Cat=1\n",
        "cat=2"
      ],
      "metadata": {
        "id": "hFxuSG0eqx1T"
      },
      "execution_count": null,
      "outputs": []
    },
    {
      "cell_type": "code",
      "source": [
        "Cat"
      ],
      "metadata": {
        "id": "RgBq_YrWq3zj",
        "outputId": "f71cba8a-6af9-48c5-b34f-fb241fa7ff5f",
        "colab": {
          "base_uri": "https://localhost:8080/"
        }
      },
      "execution_count": null,
      "outputs": [
        {
          "output_type": "execute_result",
          "data": {
            "text/plain": [
              "1"
            ]
          },
          "metadata": {},
          "execution_count": 96
        }
      ]
    },
    {
      "cell_type": "code",
      "source": [
        "cat"
      ],
      "metadata": {
        "id": "P1KgBZPZq6fa",
        "outputId": "bb3b6bd6-67ef-4a34-b29f-685e438624bd",
        "colab": {
          "base_uri": "https://localhost:8080/"
        }
      },
      "execution_count": null,
      "outputs": [
        {
          "output_type": "execute_result",
          "data": {
            "text/plain": [
              "2"
            ]
          },
          "metadata": {},
          "execution_count": 97
        }
      ]
    },
    {
      "cell_type": "code",
      "source": [
        "1cat=3"
      ],
      "metadata": {
        "id": "8jS8Xf-4q-Ei",
        "outputId": "23b77a1c-3a35-4868-b107-8a34897b45a8",
        "colab": {
          "base_uri": "https://localhost:8080/",
          "height": 131
        }
      },
      "execution_count": null,
      "outputs": [
        {
          "output_type": "error",
          "ename": "SyntaxError",
          "evalue": "ignored",
          "traceback": [
            "\u001b[0;36m  File \u001b[0;32m\"<ipython-input-98-037ba3962c49>\"\u001b[0;36m, line \u001b[0;32m1\u001b[0m\n\u001b[0;31m    1cat=3\u001b[0m\n\u001b[0m       ^\u001b[0m\n\u001b[0;31mSyntaxError\u001b[0m\u001b[0;31m:\u001b[0m invalid syntax\n"
          ]
        }
      ]
    },
    {
      "cell_type": "code",
      "source": [
        "variable_x = variable_a + variable_b"
      ],
      "metadata": {
        "id": "2PS9-wb5rp3e"
      },
      "execution_count": null,
      "outputs": []
    },
    {
      "cell_type": "code",
      "source": [
        "variable_x"
      ],
      "metadata": {
        "id": "fbBU87-LsBU8"
      },
      "execution_count": null,
      "outputs": []
    },
    {
      "cell_type": "code",
      "source": [
        "variable_a + variable_b #ข้อเสียไม่มีกล่องเก็บ"
      ],
      "metadata": {
        "id": "vWfyFhH9sKTg"
      },
      "execution_count": null,
      "outputs": []
    },
    {
      "cell_type": "code",
      "source": [
        "variable_x = variable_a + variable_b + 10\n",
        "variable_x"
      ],
      "metadata": {
        "id": "0w6Q8jWksWDb"
      },
      "execution_count": null,
      "outputs": []
    },
    {
      "cell_type": "code",
      "source": [
        "print( variable_a + variable_b + 10) #ไม่ทำอะไรต่อ"
      ],
      "metadata": {
        "id": "Md1-rGUqtKzv"
      },
      "execution_count": null,
      "outputs": []
    },
    {
      "cell_type": "code",
      "source": [
        "variable_z=variable_a\n",
        "print(variable_z)"
      ],
      "metadata": {
        "id": "ymxq0hPftlU7"
      },
      "execution_count": null,
      "outputs": []
    },
    {
      "cell_type": "code",
      "source": [
        "variable_a = variable_a + 3\n",
        "print(variable_a)\n",
        "print(variable_z)\n"
      ],
      "metadata": {
        "id": "9HeCfh86t3Q7"
      },
      "execution_count": null,
      "outputs": []
    },
    {
      "cell_type": "code",
      "source": [
        "print(variable_a)\n",
        "print(variable_z)"
      ],
      "metadata": {
        "id": "cCBsRl_lusw_"
      },
      "execution_count": null,
      "outputs": []
    },
    {
      "cell_type": "code",
      "source": [
        "variable_c + variable_d"
      ],
      "metadata": {
        "id": "Hn-QQzl3voB-"
      },
      "execution_count": null,
      "outputs": []
    },
    {
      "cell_type": "markdown",
      "source": [
        "casting int() float() str() แก้ตัวแปร"
      ],
      "metadata": {
        "id": "1n3r-duxv6iY"
      }
    },
    {
      "cell_type": "code",
      "source": [
        "variable_a + variable_e"
      ],
      "metadata": {
        "id": "Rs5rqr5Awplj"
      },
      "execution_count": null,
      "outputs": []
    },
    {
      "cell_type": "code",
      "source": [
        "variable_a + int(variable_e)"
      ],
      "metadata": {
        "id": "o4Un3NliwxR3"
      },
      "execution_count": null,
      "outputs": []
    },
    {
      "cell_type": "code",
      "source": [
        "variable_e + str(variable_a)"
      ],
      "metadata": {
        "id": "wMZj8zv4w805"
      },
      "execution_count": null,
      "outputs": []
    },
    {
      "cell_type": "code",
      "source": [
        "#ดูตรวจสอบชนิดตัวแปร type\n",
        "type(variable_e)"
      ],
      "metadata": {
        "id": "7Ikwrx2Exq4J"
      },
      "execution_count": null,
      "outputs": []
    },
    {
      "cell_type": "markdown",
      "source": [
        "data structure  คือ โครงสร้างข้อมูล ให้เป็นกลุ่มเป็นก้อน เช่น เมทริกซ์ งานสับซ้อน "
      ],
      "metadata": {
        "id": "F4movtxmyH6d"
      }
    },
    {
      "cell_type": "markdown",
      "source": [
        "list"
      ],
      "metadata": {
        "id": "-LBRlwk4yoa_"
      }
    },
    {
      "cell_type": "code",
      "source": [
        "list_a=[1,2,3,0.9,'aaz',variable_b] # (square brackets)\n",
        "list_a"
      ],
      "metadata": {
        "id": "AePrp6fBykSc"
      },
      "execution_count": null,
      "outputs": []
    },
    {
      "cell_type": "code",
      "source": [
        "list_a[5]"
      ],
      "metadata": {
        "id": "jpk0xou-yjJd"
      },
      "execution_count": null,
      "outputs": []
    },
    {
      "cell_type": "code",
      "source": [
        "list_a[0]"
      ],
      "metadata": {
        "id": "8WFEJiihzTwM"
      },
      "execution_count": null,
      "outputs": []
    },
    {
      "cell_type": "markdown",
      "source": [
        "negatvie index ชี้จากข้างหลัง"
      ],
      "metadata": {
        "id": "smZpPgnszhO3"
      }
    },
    {
      "cell_type": "code",
      "source": [
        "list_a[-2]"
      ],
      "metadata": {
        "id": "JvFCrP0JzYKK"
      },
      "execution_count": null,
      "outputs": []
    },
    {
      "cell_type": "code",
      "source": [
        "list_b = ['pizza',list_a]\n",
        "list_b"
      ],
      "metadata": {
        "id": "hQtS4BahzxON"
      },
      "execution_count": null,
      "outputs": []
    },
    {
      "cell_type": "code",
      "source": [
        "list_b[1][3]"
      ],
      "metadata": {
        "id": "oZJcYx9r0KLq"
      },
      "execution_count": null,
      "outputs": []
    },
    {
      "cell_type": "markdown",
      "source": [
        "string คือ list ของตัวอักษร"
      ],
      "metadata": {
        "id": "foAmZARd0VeT"
      }
    },
    {
      "cell_type": "code",
      "source": [
        "x = 'shabu'\n",
        "x[3]"
      ],
      "metadata": {
        "id": "G1_t1wIv0e_o"
      },
      "execution_count": null,
      "outputs": []
    },
    {
      "cell_type": "code",
      "source": [
        "print(list_a)\n",
        "print(list_b)"
      ],
      "metadata": {
        "id": "1TAw8kbs0--l"
      },
      "execution_count": null,
      "outputs": []
    },
    {
      "cell_type": "code",
      "source": [
        "list_a + list_b"
      ],
      "metadata": {
        "id": "FJCZ4Z1A1Lna"
      },
      "execution_count": null,
      "outputs": []
    },
    {
      "cell_type": "markdown",
      "source": [
        "วิธีการสร้าง list\n",
        "######1 สร้าง list ว่าง\n",
        "######2 เพิ่มสมาชิกลงไปใน list"
      ],
      "metadata": {
        "id": "jQBjYE6T1Tbf"
      }
    },
    {
      "cell_type": "code",
      "source": [
        "# 1 สร้าง list ว่าง\n",
        "list_aa=[]\n",
        "list_aa"
      ],
      "metadata": {
        "id": "XvYopp2K1v5-",
        "outputId": "65b4abfd-eb27-44f7-979d-a4b288fe3635",
        "colab": {
          "base_uri": "https://localhost:8080/"
        }
      },
      "execution_count": 23,
      "outputs": [
        {
          "output_type": "execute_result",
          "data": {
            "text/plain": [
              "[]"
            ]
          },
          "metadata": {},
          "execution_count": 23
        }
      ]
    },
    {
      "cell_type": "code",
      "source": [
        "# 2 การเพิ่มสามาชิกลงไปใน list (.append())\n",
        "list_aa.append('chiken')\n",
        "list_aa.append('water')\n",
        "list_aa.append('vegetable')"
      ],
      "metadata": {
        "id": "4Frw1QeQ2D-H"
      },
      "execution_count": 24,
      "outputs": []
    },
    {
      "cell_type": "code",
      "source": [
        "list_aa"
      ],
      "metadata": {
        "id": "OPPC2FYG2qU9",
        "outputId": "35a2c066-f269-4d25-a0af-ba3c7b0ebf30",
        "colab": {
          "base_uri": "https://localhost:8080/"
        }
      },
      "execution_count": 25,
      "outputs": [
        {
          "output_type": "execute_result",
          "data": {
            "text/plain": [
              "['chiken', 'water', 'vegetable']"
            ]
          },
          "metadata": {},
          "execution_count": 25
        }
      ]
    },
    {
      "cell_type": "code",
      "source": [
        "list_aa[-1]"
      ],
      "metadata": {
        "id": "7f4uMJCm2s7N",
        "outputId": "9c55d571-1b9b-4ebc-cb83-89544f2e447a",
        "colab": {
          "base_uri": "https://localhost:8080/",
          "height": 35
        }
      },
      "execution_count": 26,
      "outputs": [
        {
          "output_type": "execute_result",
          "data": {
            "text/plain": [
              "'vegetable'"
            ],
            "application/vnd.google.colaboratory.intrinsic+json": {
              "type": "string"
            }
          },
          "metadata": {},
          "execution_count": 26
        }
      ]
    },
    {
      "cell_type": "code",
      "source": [
        "list_aa.append('plate')"
      ],
      "metadata": {
        "id": "hpDX4Fz156mH"
      },
      "execution_count": 27,
      "outputs": []
    },
    {
      "cell_type": "markdown",
      "source": [
        "### list slicing\n",
        "##### ถ้าเราตัดlist โดยเอาตั้งแต่[ตัวหน้า:ตัวก่อนตัวหลัง]\n",
        "##### ถ้าเป็นสัญญาลักษณ์คณิตศาสตร์[ตัวหน้า:ตัวหลัง]->[ตัวหน้า,ตัวหลัง)"
      ],
      "metadata": {
        "id": "Mp__riCB4TXH"
      }
    },
    {
      "cell_type": "code",
      "source": [
        "list_aa"
      ],
      "metadata": {
        "id": "yfZsGYO04X5J",
        "outputId": "fb228482-c98a-4954-ee50-e71f806668ad",
        "colab": {
          "base_uri": "https://localhost:8080/"
        }
      },
      "execution_count": 28,
      "outputs": [
        {
          "output_type": "execute_result",
          "data": {
            "text/plain": [
              "['chiken', 'water', 'vegetable', 'plate']"
            ]
          },
          "metadata": {},
          "execution_count": 28
        }
      ]
    },
    {
      "cell_type": "code",
      "source": [
        "list_aa[1:3]"
      ],
      "metadata": {
        "id": "CIRgIucK40CL",
        "outputId": "398487c5-498d-4028-e1d1-ff1abb6c57b8",
        "colab": {
          "base_uri": "https://localhost:8080/"
        }
      },
      "execution_count": 29,
      "outputs": [
        {
          "output_type": "execute_result",
          "data": {
            "text/plain": [
              "['water', 'vegetable']"
            ]
          },
          "metadata": {},
          "execution_count": 29
        }
      ]
    },
    {
      "cell_type": "markdown",
      "source": [
        "Quiz 1\n",
        "ตัวส่วนของ list เหล่านี้มาจาก list_aa\n",
        "\n",
        "1 'iken'\n",
        "\n",
        "2 'get\n",
        "\n",
        "3 'tab'"
      ],
      "metadata": {
        "id": "lQIIcArs7h2X"
      }
    },
    {
      "cell_type": "code",
      "source": [
        "list_aa[0]"
      ],
      "metadata": {
        "id": "CZSQ5Who7eml",
        "outputId": "1d24a88d-a8d0-4e68-a1c4-c3fe4b5ab826",
        "colab": {
          "base_uri": "https://localhost:8080/",
          "height": 35
        }
      },
      "execution_count": 66,
      "outputs": [
        {
          "output_type": "execute_result",
          "data": {
            "text/plain": [
              "'chiken'"
            ],
            "application/vnd.google.colaboratory.intrinsic+json": {
              "type": "string"
            }
          },
          "metadata": {},
          "execution_count": 66
        }
      ]
    },
    {
      "cell_type": "code",
      "source": [
        "list_aa[0][2:6]"
      ],
      "metadata": {
        "id": "EpAyyPG89y8O",
        "outputId": "abfee511-24f2-4740-c09f-5f7abbbcd479",
        "colab": {
          "base_uri": "https://localhost:8080/",
          "height": 35
        }
      },
      "execution_count": 67,
      "outputs": [
        {
          "output_type": "execute_result",
          "data": {
            "text/plain": [
              "'iken'"
            ],
            "application/vnd.google.colaboratory.intrinsic+json": {
              "type": "string"
            }
          },
          "metadata": {},
          "execution_count": 67
        }
      ]
    },
    {
      "cell_type": "code",
      "source": [
        "list_aa[2][2:5]"
      ],
      "metadata": {
        "id": "8S_4Q9EW-A1V"
      },
      "execution_count": null,
      "outputs": []
    },
    {
      "cell_type": "code",
      "source": [
        "list_aa[2][4:7]"
      ],
      "metadata": {
        "id": "aB8LKRwS-NqD"
      },
      "execution_count": null,
      "outputs": []
    },
    {
      "cell_type": "code",
      "source": [
        "\n",
        "#เรียนต่อ\n",
        "list_aa[-1][1:]"
      ],
      "metadata": {
        "id": "Aq1Mp6HG-76e"
      },
      "execution_count": null,
      "outputs": []
    },
    {
      "cell_type": "code",
      "source": [
        "list_aa[1][:3]"
      ],
      "metadata": {
        "id": "oZiWdq7U_L30"
      },
      "execution_count": null,
      "outputs": []
    },
    {
      "cell_type": "markdown",
      "source": [
        "### Advance list slicing\n",
        "\n",
        "::\n",
        "ถ้าเราตัดlist โดยเอาตั้งแต่[ตัวหน้า:ตัวก่อนตัวหลัง:step]\n",
        "ถ้าเป็นสัญญาลักษณ์คณิตศาสตร์[ตัวหน้า:ตัวหลัง]->[ตัวหน้า,ตัวหลัง)\n",
        "\n",
        "Advance list slicing \n"
      ],
      "metadata": {
        "id": "iU1YjJXtCJj8"
      }
    },
    {
      "cell_type": "code",
      "source": [
        "list_aa[2]"
      ],
      "metadata": {
        "id": "w96nzN-kCiWK",
        "outputId": "2959675a-3eb3-4c0a-8f74-442e476c7bcb",
        "colab": {
          "base_uri": "https://localhost:8080/",
          "height": 0
        }
      },
      "execution_count": 60,
      "outputs": [
        {
          "output_type": "execute_result",
          "data": {
            "text/plain": [
              "'vegetable'"
            ],
            "application/vnd.google.colaboratory.intrinsic+json": {
              "type": "string"
            }
          },
          "metadata": {},
          "execution_count": 60
        }
      ]
    },
    {
      "cell_type": "code",
      "source": [
        "list_aa[2][::]"
      ],
      "metadata": {
        "id": "cncKyXhNC_Ud",
        "outputId": "aa96b5ea-fafb-49a8-a226-62106da26604",
        "colab": {
          "base_uri": "https://localhost:8080/",
          "height": 0
        }
      },
      "execution_count": 61,
      "outputs": [
        {
          "output_type": "execute_result",
          "data": {
            "text/plain": [
              "'vegetable'"
            ],
            "application/vnd.google.colaboratory.intrinsic+json": {
              "type": "string"
            }
          },
          "metadata": {},
          "execution_count": 61
        }
      ]
    },
    {
      "cell_type": "code",
      "source": [
        "list_aa[2][::2]"
      ],
      "metadata": {
        "id": "ZhLT5swwCJJL",
        "outputId": "ab1c9e14-3c5e-44f4-85b1-926f6284a52c",
        "colab": {
          "base_uri": "https://localhost:8080/",
          "height": 0
        }
      },
      "execution_count": 62,
      "outputs": [
        {
          "output_type": "execute_result",
          "data": {
            "text/plain": [
              "'vgtbe'"
            ],
            "application/vnd.google.colaboratory.intrinsic+json": {
              "type": "string"
            }
          },
          "metadata": {},
          "execution_count": 62
        }
      ]
    },
    {
      "cell_type": "code",
      "source": [
        "list_aa[2][::-1]"
      ],
      "metadata": {
        "id": "XW2b2Hd4CJBQ",
        "outputId": "60e8d522-f5c9-4d8f-80c8-d599a45f6a87",
        "colab": {
          "base_uri": "https://localhost:8080/",
          "height": 0
        }
      },
      "execution_count": 63,
      "outputs": [
        {
          "output_type": "execute_result",
          "data": {
            "text/plain": [
              "'elbategev'"
            ],
            "application/vnd.google.colaboratory.intrinsic+json": {
              "type": "string"
            }
          },
          "metadata": {},
          "execution_count": 63
        }
      ]
    },
    {
      "cell_type": "markdown",
      "source": [
        "foemat string\n",
        "\n",
        "f'string{variable}'"
      ],
      "metadata": {
        "id": "FwF5ra0JDj9p"
      }
    },
    {
      "cell_type": "code",
      "source": [
        "f'I like to eat {list_aa[2]}' # curly brackets การจัดการโดยแสกตัวแปรเข้ามาได้"
      ],
      "metadata": {
        "id": "Wd714jReD6yd",
        "outputId": "3a60a0ec-5bdd-4b20-d955-c4dd98fd8d21",
        "colab": {
          "base_uri": "https://localhost:8080/",
          "height": 0
        }
      },
      "execution_count": 64,
      "outputs": [
        {
          "output_type": "execute_result",
          "data": {
            "text/plain": [
              "'I like to eat vegetable'"
            ],
            "application/vnd.google.colaboratory.intrinsic+json": {
              "type": "string"
            }
          },
          "metadata": {},
          "execution_count": 64
        }
      ]
    },
    {
      "cell_type": "code",
      "source": [
        "f'9X10 = {9*10}'"
      ],
      "metadata": {
        "id": "d8AVJChfEWEU",
        "outputId": "4380498d-28d4-428a-c1b2-406afd6db400",
        "colab": {
          "base_uri": "https://localhost:8080/",
          "height": 0
        }
      },
      "execution_count": 65,
      "outputs": [
        {
          "output_type": "execute_result",
          "data": {
            "text/plain": [
              "'9X10 = 90'"
            ],
            "application/vnd.google.colaboratory.intrinsic+json": {
              "type": "string"
            }
          },
          "metadata": {},
          "execution_count": 65
        }
      ]
    },
    {
      "cell_type": "markdown",
      "source": [
        "## loop\n",
        "การให้ com ทำงานซ้ำๆกัน หรือ ทำงานคล้ายๆกัน หลายๆรอบ\n",
        "\n",
        "for ตัวแปรที่เราจะรับค่าจากลิสติ์ in  ลิสต์ที่ต้องการจะวนลูป\n",
        "    do something\n",
        "    do another thing\n",
        "this is outside the loop    "
      ],
      "metadata": {
        "id": "VnJjwdreE4iD"
      }
    },
    {
      "cell_type": "code",
      "source": [
        "list_aa"
      ],
      "metadata": {
        "id": "8-mWQuFhGmdy",
        "outputId": "39831cfd-dd10-4ef8-9ca7-540bddd54765",
        "colab": {
          "base_uri": "https://localhost:8080/"
        }
      },
      "execution_count": null,
      "outputs": [
        {
          "output_type": "execute_result",
          "data": {
            "text/plain": [
              "['chiken', 'water', 'vegetable', 'plate']"
            ]
          },
          "metadata": {},
          "execution_count": 113
        }
      ]
    },
    {
      "cell_type": "markdown",
      "source": [
        "ทำงานคล้ายๆกัน"
      ],
      "metadata": {
        "id": "eKhdiYInHOlm"
      }
    },
    {
      "cell_type": "code",
      "source": [
        "for i in list_aa:\n",
        "  print(f'noe i is {i}')\n",
        "  print(f'I like to eat {i}')"
      ],
      "metadata": {
        "id": "1oxyWPbRGO7O",
        "outputId": "707880c2-9156-46bf-99fc-9b750852095e",
        "colab": {
          "base_uri": "https://localhost:8080/"
        }
      },
      "execution_count": null,
      "outputs": [
        {
          "output_type": "stream",
          "name": "stdout",
          "text": [
            "noe i is chiken\n",
            "I like to eat chiken\n",
            "noe i is water\n",
            "I like to eat water\n",
            "noe i is vegetable\n",
            "I like to eat vegetable\n",
            "noe i is plate\n",
            "I like to eat plate\n"
          ]
        }
      ]
    },
    {
      "cell_type": "markdown",
      "source": [
        "ทำงานซ้ำๆกัน"
      ],
      "metadata": {
        "id": "RQ7gukveHImq"
      }
    },
    {
      "cell_type": "code",
      "source": [
        "for i in list_aa:\n",
        "  print('ha')"
      ],
      "metadata": {
        "id": "yQbVf2F-HVWh",
        "outputId": "5f91a47d-7dec-4741-8746-06c664af135d",
        "colab": {
          "base_uri": "https://localhost:8080/"
        }
      },
      "execution_count": null,
      "outputs": [
        {
          "output_type": "stream",
          "name": "stdout",
          "text": [
            "ha\n",
            "ha\n",
            "ha\n",
            "ha\n"
          ]
        }
      ]
    },
    {
      "cell_type": "code",
      "source": [
        "for x in [1,3,5,7,9]:\n",
        "  print(f'this x = {x} x/2={x/2}')\n"
      ],
      "metadata": {
        "id": "0q7r5c4dHwTk",
        "outputId": "42725423-359c-4276-ac75-97bda842f45e",
        "colab": {
          "base_uri": "https://localhost:8080/"
        }
      },
      "execution_count": null,
      "outputs": [
        {
          "output_type": "stream",
          "name": "stdout",
          "text": [
            "this x = 1 x/2=0.5\n",
            "this x = 3 x/2=1.5\n",
            "this x = 5 x/2=2.5\n",
            "this x = 7 x/2=3.5\n",
            "this x = 9 x/2=4.5\n"
          ]
        }
      ]
    },
    {
      "cell_type": "code",
      "source": [
        "list(range(10)) # range เป็นคำสั้งที่สร้างเลขตั้งแต่ 0-10"
      ],
      "metadata": {
        "id": "2T4Y9SKSIKox",
        "outputId": "8db50f09-4a58-4591-85fa-d4d0e4fff42f",
        "colab": {
          "base_uri": "https://localhost:8080/"
        }
      },
      "execution_count": null,
      "outputs": [
        {
          "output_type": "execute_result",
          "data": {
            "text/plain": [
              "[0, 1, 2, 3, 4, 5, 6, 7, 8, 9]"
            ]
          },
          "metadata": {},
          "execution_count": 118
        }
      ]
    },
    {
      "cell_type": "code",
      "source": [
        "for i in range(30):\n",
        "  print(f'ha{i}',end='')"
      ],
      "metadata": {
        "id": "TPA_P5NRIkU3",
        "outputId": "5dd90162-3d5e-4507-bc03-5ae6a087c663",
        "colab": {
          "base_uri": "https://localhost:8080/"
        }
      },
      "execution_count": null,
      "outputs": [
        {
          "output_type": "stream",
          "name": "stdout",
          "text": [
            "ha0ha1ha2ha3ha4ha5ha6ha7ha8ha9ha10ha11ha12ha13ha14ha15ha16ha17ha18ha19ha20ha21ha22ha23ha24ha25ha26ha27ha28ha29"
          ]
        }
      ]
    },
    {
      "cell_type": "code",
      "source": [
        "list(range(5,10))"
      ],
      "metadata": {
        "id": "ngOASMPRJPnm",
        "outputId": "6b1cd5c6-d8cb-4f41-a367-ddba57e2f132",
        "colab": {
          "base_uri": "https://localhost:8080/"
        }
      },
      "execution_count": null,
      "outputs": [
        {
          "output_type": "execute_result",
          "data": {
            "text/plain": [
              "[5, 6, 7, 8, 9]"
            ]
          },
          "metadata": {},
          "execution_count": 121
        }
      ]
    },
    {
      "cell_type": "code",
      "source": [
        "list(range(5,100,5))"
      ],
      "metadata": {
        "id": "KY7HkTi1JfQq",
        "outputId": "b4a2e000-0116-4621-df60-896d5af3194e",
        "colab": {
          "base_uri": "https://localhost:8080/"
        }
      },
      "execution_count": null,
      "outputs": [
        {
          "output_type": "execute_result",
          "data": {
            "text/plain": [
              "[5, 10, 15, 20, 25, 30, 35, 40, 45, 50, 55, 60, 65, 70, 75, 80, 85, 90, 95]"
            ]
          },
          "metadata": {},
          "execution_count": 122
        }
      ]
    },
    {
      "cell_type": "markdown",
      "source": [
        "### nosted loop ลูปซ้อนลูป"
      ],
      "metadata": {
        "id": "AdzRYo5ZJ90v"
      }
    },
    {
      "cell_type": "code",
      "source": [
        "for i in range(3):\n",
        "  #print(f'i={i}')\n",
        "  for j in range(2):\n",
        "  #  print(f'j={j}')\n",
        "    print(f'i={i}, j={j},i+j={i+j}')"
      ],
      "metadata": {
        "id": "OwSa1_cPKHJf",
        "outputId": "68734a7e-0bab-4f58-8e0c-474616633ab0",
        "colab": {
          "base_uri": "https://localhost:8080/"
        }
      },
      "execution_count": 12,
      "outputs": [
        {
          "output_type": "stream",
          "name": "stdout",
          "text": [
            "i=0, j=0,i+j=0\n",
            "i=0, j=1,i+j=1\n",
            "i=1, j=0,i+j=1\n",
            "i=1, j=1,i+j=2\n",
            "i=2, j=0,i+j=2\n",
            "i=2, j=1,i+j=3\n"
          ]
        }
      ]
    },
    {
      "cell_type": "code",
      "source": [
        "for i in range(3):\n",
        "  for j in range(2):\n",
        "   print(i+j)"
      ],
      "metadata": {
        "id": "Beah2JH5LHIx",
        "outputId": "10a05e05-1a4d-4215-b369-bba434032469",
        "colab": {
          "base_uri": "https://localhost:8080/"
        }
      },
      "execution_count": 13,
      "outputs": [
        {
          "output_type": "stream",
          "name": "stdout",
          "text": [
            "0\n",
            "1\n",
            "1\n",
            "2\n",
            "2\n",
            "3\n"
          ]
        }
      ]
    },
    {
      "cell_type": "markdown",
      "source": [
        "Quiz 2 สร้าง list\n",
        "\n",
        "[[1],[1,1],[1,1,1],...,[1,1,1,1,1,1,1,1,1,1]] โดยใช้ for loop\n",
        "\n"
      ],
      "metadata": {
        "id": "SXcYaLwWMqFp"
      }
    },
    {
      "cell_type": "code",
      "source": [
        "list_ans=[]\n",
        "for i in range(1,11):\n",
        "  temp =[]\n",
        "  for j in range(i):\n",
        "    temp.append(1)\n",
        "  list_ans.append(temp)\n",
        "  print(list_ans)\n",
        "\n"
      ],
      "metadata": {
        "id": "yUxNG6hZNOF8",
        "outputId": "9d9429a4-f2f9-436b-c829-abfbff394473",
        "colab": {
          "base_uri": "https://localhost:8080/"
        }
      },
      "execution_count": 14,
      "outputs": [
        {
          "output_type": "stream",
          "name": "stdout",
          "text": [
            "[[1]]\n",
            "[[1], [1, 1]]\n",
            "[[1], [1, 1], [1, 1, 1]]\n",
            "[[1], [1, 1], [1, 1, 1], [1, 1, 1, 1]]\n",
            "[[1], [1, 1], [1, 1, 1], [1, 1, 1, 1], [1, 1, 1, 1, 1]]\n",
            "[[1], [1, 1], [1, 1, 1], [1, 1, 1, 1], [1, 1, 1, 1, 1], [1, 1, 1, 1, 1, 1]]\n",
            "[[1], [1, 1], [1, 1, 1], [1, 1, 1, 1], [1, 1, 1, 1, 1], [1, 1, 1, 1, 1, 1], [1, 1, 1, 1, 1, 1, 1]]\n",
            "[[1], [1, 1], [1, 1, 1], [1, 1, 1, 1], [1, 1, 1, 1, 1], [1, 1, 1, 1, 1, 1], [1, 1, 1, 1, 1, 1, 1], [1, 1, 1, 1, 1, 1, 1, 1]]\n",
            "[[1], [1, 1], [1, 1, 1], [1, 1, 1, 1], [1, 1, 1, 1, 1], [1, 1, 1, 1, 1, 1], [1, 1, 1, 1, 1, 1, 1], [1, 1, 1, 1, 1, 1, 1, 1], [1, 1, 1, 1, 1, 1, 1, 1, 1]]\n",
            "[[1], [1, 1], [1, 1, 1], [1, 1, 1, 1], [1, 1, 1, 1, 1], [1, 1, 1, 1, 1, 1], [1, 1, 1, 1, 1, 1, 1], [1, 1, 1, 1, 1, 1, 1, 1], [1, 1, 1, 1, 1, 1, 1, 1, 1], [1, 1, 1, 1, 1, 1, 1, 1, 1, 1]]\n"
          ]
        }
      ]
    },
    {
      "cell_type": "code",
      "source": [
        "list_ans=[]\n",
        "print(f'list_ans={list_ans}')\n",
        "for i in range(1,11):\n",
        "  temp =[]\n",
        "  print(f'temp={temp} i={i}')\n",
        "  for j in range(i):\n",
        "    temp.append(1)\n",
        "    print(f'temp={temp}')\n",
        "  list_ans.append(temp)\n",
        "  print(f'list_ans={list_ans}')\n",
        "  print(list_ans)"
      ],
      "metadata": {
        "id": "5xKtlVAjRwFD",
        "outputId": "47ce1c1f-d5b6-4485-f264-e0532f4fec71",
        "colab": {
          "base_uri": "https://localhost:8080/"
        }
      },
      "execution_count": 15,
      "outputs": [
        {
          "output_type": "stream",
          "name": "stdout",
          "text": [
            "list_ans=[]\n",
            "temp=[] i=1\n",
            "temp=[1]\n",
            "list_ans=[[1]]\n",
            "[[1]]\n",
            "temp=[] i=2\n",
            "temp=[1]\n",
            "temp=[1, 1]\n",
            "list_ans=[[1], [1, 1]]\n",
            "[[1], [1, 1]]\n",
            "temp=[] i=3\n",
            "temp=[1]\n",
            "temp=[1, 1]\n",
            "temp=[1, 1, 1]\n",
            "list_ans=[[1], [1, 1], [1, 1, 1]]\n",
            "[[1], [1, 1], [1, 1, 1]]\n",
            "temp=[] i=4\n",
            "temp=[1]\n",
            "temp=[1, 1]\n",
            "temp=[1, 1, 1]\n",
            "temp=[1, 1, 1, 1]\n",
            "list_ans=[[1], [1, 1], [1, 1, 1], [1, 1, 1, 1]]\n",
            "[[1], [1, 1], [1, 1, 1], [1, 1, 1, 1]]\n",
            "temp=[] i=5\n",
            "temp=[1]\n",
            "temp=[1, 1]\n",
            "temp=[1, 1, 1]\n",
            "temp=[1, 1, 1, 1]\n",
            "temp=[1, 1, 1, 1, 1]\n",
            "list_ans=[[1], [1, 1], [1, 1, 1], [1, 1, 1, 1], [1, 1, 1, 1, 1]]\n",
            "[[1], [1, 1], [1, 1, 1], [1, 1, 1, 1], [1, 1, 1, 1, 1]]\n",
            "temp=[] i=6\n",
            "temp=[1]\n",
            "temp=[1, 1]\n",
            "temp=[1, 1, 1]\n",
            "temp=[1, 1, 1, 1]\n",
            "temp=[1, 1, 1, 1, 1]\n",
            "temp=[1, 1, 1, 1, 1, 1]\n",
            "list_ans=[[1], [1, 1], [1, 1, 1], [1, 1, 1, 1], [1, 1, 1, 1, 1], [1, 1, 1, 1, 1, 1]]\n",
            "[[1], [1, 1], [1, 1, 1], [1, 1, 1, 1], [1, 1, 1, 1, 1], [1, 1, 1, 1, 1, 1]]\n",
            "temp=[] i=7\n",
            "temp=[1]\n",
            "temp=[1, 1]\n",
            "temp=[1, 1, 1]\n",
            "temp=[1, 1, 1, 1]\n",
            "temp=[1, 1, 1, 1, 1]\n",
            "temp=[1, 1, 1, 1, 1, 1]\n",
            "temp=[1, 1, 1, 1, 1, 1, 1]\n",
            "list_ans=[[1], [1, 1], [1, 1, 1], [1, 1, 1, 1], [1, 1, 1, 1, 1], [1, 1, 1, 1, 1, 1], [1, 1, 1, 1, 1, 1, 1]]\n",
            "[[1], [1, 1], [1, 1, 1], [1, 1, 1, 1], [1, 1, 1, 1, 1], [1, 1, 1, 1, 1, 1], [1, 1, 1, 1, 1, 1, 1]]\n",
            "temp=[] i=8\n",
            "temp=[1]\n",
            "temp=[1, 1]\n",
            "temp=[1, 1, 1]\n",
            "temp=[1, 1, 1, 1]\n",
            "temp=[1, 1, 1, 1, 1]\n",
            "temp=[1, 1, 1, 1, 1, 1]\n",
            "temp=[1, 1, 1, 1, 1, 1, 1]\n",
            "temp=[1, 1, 1, 1, 1, 1, 1, 1]\n",
            "list_ans=[[1], [1, 1], [1, 1, 1], [1, 1, 1, 1], [1, 1, 1, 1, 1], [1, 1, 1, 1, 1, 1], [1, 1, 1, 1, 1, 1, 1], [1, 1, 1, 1, 1, 1, 1, 1]]\n",
            "[[1], [1, 1], [1, 1, 1], [1, 1, 1, 1], [1, 1, 1, 1, 1], [1, 1, 1, 1, 1, 1], [1, 1, 1, 1, 1, 1, 1], [1, 1, 1, 1, 1, 1, 1, 1]]\n",
            "temp=[] i=9\n",
            "temp=[1]\n",
            "temp=[1, 1]\n",
            "temp=[1, 1, 1]\n",
            "temp=[1, 1, 1, 1]\n",
            "temp=[1, 1, 1, 1, 1]\n",
            "temp=[1, 1, 1, 1, 1, 1]\n",
            "temp=[1, 1, 1, 1, 1, 1, 1]\n",
            "temp=[1, 1, 1, 1, 1, 1, 1, 1]\n",
            "temp=[1, 1, 1, 1, 1, 1, 1, 1, 1]\n",
            "list_ans=[[1], [1, 1], [1, 1, 1], [1, 1, 1, 1], [1, 1, 1, 1, 1], [1, 1, 1, 1, 1, 1], [1, 1, 1, 1, 1, 1, 1], [1, 1, 1, 1, 1, 1, 1, 1], [1, 1, 1, 1, 1, 1, 1, 1, 1]]\n",
            "[[1], [1, 1], [1, 1, 1], [1, 1, 1, 1], [1, 1, 1, 1, 1], [1, 1, 1, 1, 1, 1], [1, 1, 1, 1, 1, 1, 1], [1, 1, 1, 1, 1, 1, 1, 1], [1, 1, 1, 1, 1, 1, 1, 1, 1]]\n",
            "temp=[] i=10\n",
            "temp=[1]\n",
            "temp=[1, 1]\n",
            "temp=[1, 1, 1]\n",
            "temp=[1, 1, 1, 1]\n",
            "temp=[1, 1, 1, 1, 1]\n",
            "temp=[1, 1, 1, 1, 1, 1]\n",
            "temp=[1, 1, 1, 1, 1, 1, 1]\n",
            "temp=[1, 1, 1, 1, 1, 1, 1, 1]\n",
            "temp=[1, 1, 1, 1, 1, 1, 1, 1, 1]\n",
            "temp=[1, 1, 1, 1, 1, 1, 1, 1, 1, 1]\n",
            "list_ans=[[1], [1, 1], [1, 1, 1], [1, 1, 1, 1], [1, 1, 1, 1, 1], [1, 1, 1, 1, 1, 1], [1, 1, 1, 1, 1, 1, 1], [1, 1, 1, 1, 1, 1, 1, 1], [1, 1, 1, 1, 1, 1, 1, 1, 1], [1, 1, 1, 1, 1, 1, 1, 1, 1, 1]]\n",
            "[[1], [1, 1], [1, 1, 1], [1, 1, 1, 1], [1, 1, 1, 1, 1], [1, 1, 1, 1, 1, 1], [1, 1, 1, 1, 1, 1, 1], [1, 1, 1, 1, 1, 1, 1, 1], [1, 1, 1, 1, 1, 1, 1, 1, 1], [1, 1, 1, 1, 1, 1, 1, 1, 1, 1]]\n"
          ]
        }
      ]
    },
    {
      "cell_type": "markdown",
      "source": [
        "Quiz 3\n",
        "\n",
        "[[1],[1,2],[1,2,3],...,[1,2,3,4,5,6,7,8,9,10]] โดยใช้ for loop"
      ],
      "metadata": {
        "id": "u1DiTX3bTyvM"
      }
    },
    {
      "cell_type": "code",
      "source": [
        "list_ans=[]\n",
        "for i in range(1,11):\n",
        "  temp =[]\n",
        "  for j in range(i):\n",
        "    temp.append(j+1)\n",
        "  list_ans.append(temp)\n",
        "  print(list_ans)"
      ],
      "metadata": {
        "id": "OIEtB4W5TBI4",
        "outputId": "73f5c882-15e7-4315-dc9a-ffee6d86a481",
        "colab": {
          "base_uri": "https://localhost:8080/"
        }
      },
      "execution_count": 16,
      "outputs": [
        {
          "output_type": "stream",
          "name": "stdout",
          "text": [
            "[[1]]\n",
            "[[1], [1, 2]]\n",
            "[[1], [1, 2], [1, 2, 3]]\n",
            "[[1], [1, 2], [1, 2, 3], [1, 2, 3, 4]]\n",
            "[[1], [1, 2], [1, 2, 3], [1, 2, 3, 4], [1, 2, 3, 4, 5]]\n",
            "[[1], [1, 2], [1, 2, 3], [1, 2, 3, 4], [1, 2, 3, 4, 5], [1, 2, 3, 4, 5, 6]]\n",
            "[[1], [1, 2], [1, 2, 3], [1, 2, 3, 4], [1, 2, 3, 4, 5], [1, 2, 3, 4, 5, 6], [1, 2, 3, 4, 5, 6, 7]]\n",
            "[[1], [1, 2], [1, 2, 3], [1, 2, 3, 4], [1, 2, 3, 4, 5], [1, 2, 3, 4, 5, 6], [1, 2, 3, 4, 5, 6, 7], [1, 2, 3, 4, 5, 6, 7, 8]]\n",
            "[[1], [1, 2], [1, 2, 3], [1, 2, 3, 4], [1, 2, 3, 4, 5], [1, 2, 3, 4, 5, 6], [1, 2, 3, 4, 5, 6, 7], [1, 2, 3, 4, 5, 6, 7, 8], [1, 2, 3, 4, 5, 6, 7, 8, 9]]\n",
            "[[1], [1, 2], [1, 2, 3], [1, 2, 3, 4], [1, 2, 3, 4, 5], [1, 2, 3, 4, 5, 6], [1, 2, 3, 4, 5, 6, 7], [1, 2, 3, 4, 5, 6, 7, 8], [1, 2, 3, 4, 5, 6, 7, 8, 9], [1, 2, 3, 4, 5, 6, 7, 8, 9, 10]]\n"
          ]
        }
      ]
    },
    {
      "cell_type": "markdown",
      "source": [
        "### conditionai statement (if ststement)\n",
        "\n",
        "if เงื่อนไขเราจะตรวจสอบ(โดยอาศัยสัญลักษณ์เหล่านี้ ==,!=,<,>,<=,>=,in,is_null()):\n",
        "ถ้าเงื่อนไขเป็นจริง ทำ\n",
        "\n",
        "elif เงื่อนไขที่จะตรวจสอบตรอไปถ้าเงื่อนไขข้างบนไม่เป็นจริง\n",
        "else: #ตรวจสอบข้างบนแล้วไม่เป็นจริง"
      ],
      "metadata": {
        "id": "UH4x3GSyVErI"
      }
    },
    {
      "cell_type": "code",
      "source": [
        "if 1<5:\n",
        "  print('yes')"
      ],
      "metadata": {
        "id": "gs2S6kVzV3pI",
        "outputId": "421d4612-fb33-40b0-d173-a0f9054e7288",
        "colab": {
          "base_uri": "https://localhost:8080/"
        }
      },
      "execution_count": 1,
      "outputs": [
        {
          "output_type": "stream",
          "name": "stdout",
          "text": [
            "yes\n"
          ]
        }
      ]
    },
    {
      "cell_type": "code",
      "source": [
        "x=12\n",
        "if x < 5:\n",
        "  print('yes')\n",
        "else:\n",
        "    print('no')"
      ],
      "metadata": {
        "id": "CUvXrDT1XU6_",
        "outputId": "7244f213-6997-4962-c3a6-99b4c344d04f",
        "colab": {
          "base_uri": "https://localhost:8080/"
        }
      },
      "execution_count": 2,
      "outputs": [
        {
          "output_type": "stream",
          "name": "stdout",
          "text": [
            "no\n"
          ]
        }
      ]
    },
    {
      "cell_type": "markdown",
      "source": [
        "Quiz 4\n",
        "\n",
        "list_ex=[1,5,9,-19,-2,0] #หาค่าที่น้อยที่สุดใน list_ex โดยไม่ใช้ function min (ใช้ for กับ if)"
      ],
      "metadata": {
        "id": "zJygk-zoXys3"
      }
    },
    {
      "cell_type": "code",
      "source": [
        "list_ex=[1,5,9,-19,-2,0]\n",
        "\n",
        "min =-100\n",
        "for x in list_ex:\n",
        "  if x < min:\n",
        "    min=x"
      ],
      "metadata": {
        "id": "8pYO3ogwXCyA"
      },
      "execution_count": 3,
      "outputs": []
    },
    {
      "cell_type": "code",
      "source": [
        "   print(min)"
      ],
      "metadata": {
        "id": "lI5WRf_BbttD",
        "outputId": "8e66730a-1c38-4841-e435-8398b0eb8192",
        "colab": {
          "base_uri": "https://localhost:8080/"
        }
      },
      "execution_count": 4,
      "outputs": [
        {
          "output_type": "stream",
          "name": "stdout",
          "text": [
            "-100\n"
          ]
        }
      ]
    },
    {
      "cell_type": "markdown",
      "source": [
        "\n",
        "\n",
        "list_ex=[1,5,9,-19,-2,0] #หาค่าที่มากที่สุดใน list_ex โดยไม่ใช้ function max (ใช้ for กับ if)"
      ],
      "metadata": {
        "id": "B8ymE6A-ZwLs"
      }
    },
    {
      "cell_type": "code",
      "source": [
        "list_ex=[1,5,9,-19,-2,0]\n",
        "\n",
        "max = 0\n",
        "for x in list_ex:\n",
        "  if x > max:\n",
        "    max = x\n",
        "   "
      ],
      "metadata": {
        "id": "Yu9HkjjmRvqu"
      },
      "execution_count": 5,
      "outputs": []
    },
    {
      "cell_type": "code",
      "source": [
        "print(max)"
      ],
      "metadata": {
        "id": "U993nI1PbwoY",
        "outputId": "2d7a8392-97f2-4e0e-d107-deb01a320d4a",
        "colab": {
          "base_uri": "https://localhost:8080/"
        }
      },
      "execution_count": 6,
      "outputs": [
        {
          "output_type": "stream",
          "name": "stdout",
          "text": [
            "9\n"
          ]
        }
      ]
    },
    {
      "cell_type": "markdown",
      "source": [
        "Quiz1\n",
        "เขียน function แสดงความต่างของเวลาโดย input อยู่ในรูปแบบ 'XX:YY:ZZ - AA:BB:CC'\n",
        "\n",
        "และวนลูปแสดงผลของ input ต่อไปนี้\n",
        "\n",
        "'09:11:50 - 12:30:15'\n",
        "'13:41:07 - 20:00:18'\n",
        "'00:00:00 - 23:59:59'\n",
        "'18:04:11 - 00:00:00'\n",
        "'21:30:00 - 03:05:15'\n",
        "ตัวอย่าง input '00:00:00-01:00:00'\n",
        "\n",
        "output ช่วงระยะเวลาระหว่าง 00:00:00 ถึง 01:00:00 มีเวลาทั้งหมด 3,600 วินาที"
      ],
      "metadata": {
        "id": "x-ReRf5dyKjx"
      }
    },
    {
      "cell_type": "code",
      "source": [
        "time='09:11:50 - 12:30:15'"
      ],
      "metadata": {
        "id": "gPAP3igNqq8u"
      },
      "execution_count": 69,
      "outputs": []
    },
    {
      "cell_type": "code",
      "source": [
        "time.split('-')"
      ],
      "metadata": {
        "id": "PfeQYHqlqx4H",
        "outputId": "d482f0ae-8eaf-4900-8214-4268a55ac2a2",
        "colab": {
          "base_uri": "https://localhost:8080/"
        }
      },
      "execution_count": 70,
      "outputs": [
        {
          "output_type": "execute_result",
          "data": {
            "text/plain": [
              "['09:11:50 ', ' 12:30:15']"
            ]
          },
          "metadata": {},
          "execution_count": 70
        }
      ]
    },
    {
      "cell_type": "code",
      "source": [
        "time.split()"
      ],
      "metadata": {
        "id": "VUXNttF-rDbH",
        "outputId": "85d7a0d2-e499-414d-e5f6-6e00375e08da",
        "colab": {
          "base_uri": "https://localhost:8080/"
        }
      },
      "execution_count": 71,
      "outputs": [
        {
          "output_type": "execute_result",
          "data": {
            "text/plain": [
              "['09:11:50', '-', '12:30:15']"
            ]
          },
          "metadata": {},
          "execution_count": 71
        }
      ]
    },
    {
      "cell_type": "code",
      "source": [
        "det cal_time(time):\n",
        "T= time.split('-')\n",
        "Tstart = T[0]\n",
        "Tend = T[-1]\n",
        "\n",
        "splitS = Tstart.split(':')\n",
        "Sstar = 3600*int(splitS[0]) + 60*int(splitS[1]) +int(splitS[2])\n",
        "\n",
        "splitE = Tstart.split(':')\n",
        "Send = 3600*int(splitE[0]) + 60*int(splitE[1]) +int(splitE[2])\n",
        "\n",
        "if send< Sstart:\n",
        "  return f'ช่วงระยะเวลาระหว่าง {Tstart}  ถึง {Tend} มีเวลาทั้งหมด {(send+(24*3600))-Sstart:;} วินาที'\n",
        "\n",
        "else:\n",
        "  return f'ช่วงระยะเวลาระหว่าง {Tstart}  ถึง {Tend} มีเวลาทั้งหมด {(send+(24*3600))-Sstart:;} วินาที'"
      ],
      "metadata": {
        "id": "wUS126PgtGB0",
        "outputId": "afb6c72e-34e7-4aae-a748-75f67b4503a1",
        "colab": {
          "base_uri": "https://localhost:8080/",
          "height": 131
        }
      },
      "execution_count": 75,
      "outputs": [
        {
          "output_type": "error",
          "ename": "SyntaxError",
          "evalue": "ignored",
          "traceback": [
            "\u001b[0;36m  File \u001b[0;32m\"<ipython-input-75-c3f4ef10f9bc>\"\u001b[0;36m, line \u001b[0;32m1\u001b[0m\n\u001b[0;31m    det cal_time(time):\u001b[0m\n\u001b[0m               ^\u001b[0m\n\u001b[0;31mSyntaxError\u001b[0m\u001b[0;31m:\u001b[0m invalid syntax\n"
          ]
        }
      ]
    }
  ]
}