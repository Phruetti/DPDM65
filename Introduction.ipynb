{
  "nbformat": 4,
  "nbformat_minor": 0,
  "metadata": {
    "colab": {
      "name": "Introduction.ipynb",
      "provenance": [],
      "authorship_tag": "ABX9TyNU5rXkd+yNWMqwCgU/UADT",
      "include_colab_link": true
    },
    "kernelspec": {
      "name": "python3",
      "display_name": "Python 3"
    },
    "language_info": {
      "name": "python"
    }
  },
  "cells": [
    {
      "cell_type": "markdown",
      "metadata": {
        "id": "view-in-github",
        "colab_type": "text"
      },
      "source": [
        "<a href=\"https://colab.research.google.com/github/Phruetti/DPDM65/blob/main/Introduction.ipynb\" target=\"_parent\"><img src=\"https://colab.research.google.com/assets/colab-badge.svg\" alt=\"Open In Colab\"/></a>"
      ]
    },
    {
      "cell_type": "markdown",
      "source": [
        "first text in markdown"
      ],
      "metadata": {
        "id": "zNK53X6nmcMT"
      }
    },
    {
      "cell_type": "markdown",
      "source": [
        "# Heading\n"
      ],
      "metadata": {
        "id": "cZHF4hUnm7tk"
      }
    },
    {
      "cell_type": "code",
      "source": [
        "a = 1+2"
      ],
      "metadata": {
        "id": "Zh9oOL-3pCRk"
      },
      "execution_count": 6,
      "outputs": []
    },
    {
      "cell_type": "code",
      "source": [
        "print(a)"
      ],
      "metadata": {
        "colab": {
          "base_uri": "https://localhost:8080/"
        },
        "id": "UptnQjWnpbyB",
        "outputId": "92a5bc68-8bdd-426e-b1de-70ee93172c53"
      },
      "execution_count": 7,
      "outputs": [
        {
          "output_type": "stream",
          "name": "stdout",
          "text": [
            "3\n"
          ]
        }
      ]
    },
    {
      "cell_type": "markdown",
      "source": [
        "## heading2"
      ],
      "metadata": {
        "id": "G3hQJm7GncLx"
      }
    },
    {
      "cell_type": "code",
      "source": [
        "print('phruettichai nueasri')\n"
      ],
      "metadata": {
        "colab": {
          "base_uri": "https://localhost:8080/"
        },
        "id": "7zaP6_xZmpKx",
        "outputId": "2d52eef4-6781-4a4d-bcb5-7aafa1384d9d"
      },
      "execution_count": 1,
      "outputs": [
        {
          "output_type": "stream",
          "name": "stdout",
          "text": [
            "phruettichai nueasri\n"
          ]
        }
      ]
    },
    {
      "cell_type": "code",
      "source": [
        "print('Nuersri P.')"
      ],
      "metadata": {
        "colab": {
          "base_uri": "https://localhost:8080/"
        },
        "id": "jVBIlk2golUT",
        "outputId": "4ecbe47d-60d0-4c26-ca9c-f44b075deeb8"
      },
      "execution_count": 2,
      "outputs": [
        {
          "output_type": "stream",
          "name": "stdout",
          "text": [
            "Nuersri P.\n"
          ]
        }
      ]
    }
  ]
}