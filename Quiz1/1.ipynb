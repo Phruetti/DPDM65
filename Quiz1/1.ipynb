{
  "nbformat": 4,
  "nbformat_minor": 0,
  "metadata": {
    "colab": {
      "name": "Quiz1.ipynb",
      "provenance": [],
      "include_colab_link": true
    },
    "kernelspec": {
      "name": "python3",
      "display_name": "Python 3"
    },
    "language_info": {
      "name": "python"
    }
  },
  "cells": [
    {
      "cell_type": "markdown",
      "metadata": {
        "id": "view-in-github",
        "colab_type": "text"
      },
      "source": [
        "<a href=\"https://colab.research.google.com/github/Phruetti/DPDM65/blob/main/Quiz1/1.ipynb\" target=\"_parent\"><img src=\"https://colab.research.google.com/assets/colab-badge.svg\" alt=\"Open In Colab\"/></a>"
      ]
    },
    {
      "cell_type": "markdown",
      "source": [
        "# Quiz1\n",
        "เขียน function แสดงความต่างของเวลาโดย input อยู่ในรูปแบบ 'XX:YY:ZZ - AA:BB:CC'\n",
        "\n",
        "และวนลูปแสดงผลของ input ต่อไปนี้\n",
        "\n",
        "* '09:11:50 - 12:30:15'\n",
        "* '13:41:07 - 20:00:18'\n",
        "* '00:00:00 - 23:59:59'\n",
        "* '18:04:11 - 00:00:00'\n",
        "* '21:30:00 - 03:05:15'\n",
        "\n",
        "ตัวอย่าง \n",
        "input ```'00:00:00-01:00:00'``` \n",
        "\n",
        "output ```ช่วงระยะเวลาระหว่าง 00:00:00 ถึง 01:00:00 มีเวลาทั้งหมด 3,600 วินาที```"
      ],
      "metadata": {
        "id": "AyuFpHU_VgDa"
      }
    },
    {
      "cell_type": "code",
      "source": [
        "def Time(a, b, c, d, e, f) :\n",
        "    t = a*60*60 + b*60 + c\n",
        "    tt = d*60*60 + e*60 + f\n",
        "    time = tt - t\n",
        "    print(f'เวลา {a}:{b}:{c} ถึง {d}:{e}:{f} มีเวลา {time} ')\n",
        "Time(0,0,0,1,0,0)"
      ],
      "metadata": {
        "colab": {
          "base_uri": "https://localhost:8080/"
        },
        "id": "hXUjlVkTh9lF",
        "outputId": "76737158-0de8-4069-e30f-ec192fa0ac6d"
      },
      "execution_count": 61,
      "outputs": [
        {
          "output_type": "stream",
          "name": "stdout",
          "text": [
            "เวลา 0:0:0 ถึง 1:0:0 มีเวลา 3600 \n"
          ]
        }
      ]
    },
    {
      "cell_type": "code",
      "source": [
        "def Time(a, b, c, d, e, f) :\n",
        "    t = a*60*60 + b*60 + c\n",
        "    tt = d*60*60 + e*60 + f\n",
        "    time = tt - t\n",
        "    print(f'เวลา {a}:{b}:{c} ถึง {d}:{e}:{f} มีเวลา {time} ')\n",
        "Time(9,11,50,12,30,15)"
      ],
      "metadata": {
        "colab": {
          "base_uri": "https://localhost:8080/"
        },
        "id": "B40o0S8BmaNq",
        "outputId": "75e6ff58-2757-4d7a-df0a-0c6e8185fbfc"
      },
      "execution_count": 52,
      "outputs": [
        {
          "output_type": "stream",
          "name": "stdout",
          "text": [
            "เวลา 9:11:50 ถึง 12:30:15 มีเวลา 11905 \n"
          ]
        }
      ]
    },
    {
      "cell_type": "code",
      "source": [
        "def Time(a, b, c, d, e, f) :\n",
        "    t= a*60*60 + b*60 + c\n",
        "    tt = d*60*60 + e*60 + f\n",
        "    time = tt- t\n",
        "    print(f'เวลา {a}:{b}:{c} ถึง {d}:{e}:{f} มีเวลา {time} ')\n",
        "Time(13,41,7,20,0,18)"
      ],
      "metadata": {
        "colab": {
          "base_uri": "https://localhost:8080/"
        },
        "id": "5pkyTEuJmYt2",
        "outputId": "3f3ef487-64bd-4ad0-d793-0af1daca7f29"
      },
      "execution_count": 62,
      "outputs": [
        {
          "output_type": "stream",
          "name": "stdout",
          "text": [
            "เวลา 13:41:7 ถึง 20:0:18 มีเวลา 22751 \n"
          ]
        }
      ]
    },
    {
      "cell_type": "code",
      "source": [
        "def Time(a, b, c, d, e, f) :\n",
        "    t= a*60*60 + b*60 + c\n",
        "    tt = d*60*60 + e*60 + f\n",
        "    time = tt- t\n",
        "    print(f'เวลา {a}:{b}:{c} ถึง {d}:{e}:{f} มีเวลา {time} ')\n",
        "Time(23,59,59,0,0,0)"
      ],
      "metadata": {
        "colab": {
          "base_uri": "https://localhost:8080/"
        },
        "id": "YGfztXyhm6zx",
        "outputId": "3af59763-8c01-4d43-b880-0732ca43e08d"
      },
      "execution_count": 63,
      "outputs": [
        {
          "output_type": "stream",
          "name": "stdout",
          "text": [
            "เวลา 23:59:59 ถึง 0:0:0 มีเวลา -86399 \n"
          ]
        }
      ]
    },
    {
      "cell_type": "code",
      "source": [
        "def Time(a, b, c, d, e, f) :\n",
        "    t= a*60*60 + b*60 + c\n",
        "    tt = d*60*60 + e*60 + f\n",
        "    time = tt- t\n",
        "    print(f'เวลา {a}:{b}:{c} ถึง {d}:{e}:{f} มีเวลา {time} ')\n",
        "Time(18,4,11,24,0,0)"
      ],
      "metadata": {
        "colab": {
          "base_uri": "https://localhost:8080/"
        },
        "id": "ofCSGdfSnb3x",
        "outputId": "ea38037a-7998-425d-a120-e8187f782c25"
      },
      "execution_count": 64,
      "outputs": [
        {
          "output_type": "stream",
          "name": "stdout",
          "text": [
            "เวลา 18:4:11 ถึง 24:0:0 มีเวลา 21349 \n"
          ]
        }
      ]
    },
    {
      "cell_type": "code",
      "source": [
        "def Time(a, b, c, d, e, f) :\n",
        "    t= a*60*60 + b*60 + c\n",
        "    tt = d*60*60 + e*60 + f\n",
        "    time = tt- t\n",
        "    print(f'เวลา {a}:{b}:{c} ถึง {d}:{e}:{f} มีเวลา {time} ')\n",
        "Time(3,5,0,21,30,0)"
      ],
      "metadata": {
        "colab": {
          "base_uri": "https://localhost:8080/"
        },
        "id": "4nDiC2z0mq_R",
        "outputId": "948353f0-c0bc-46f0-ce79-f4fc4211f1d3"
      },
      "execution_count": 65,
      "outputs": [
        {
          "output_type": "stream",
          "name": "stdout",
          "text": [
            "เวลา 3:5:0 ถึง 21:30:0 มีเวลา 66300 \n"
          ]
        }
      ]
    }
  ]
}