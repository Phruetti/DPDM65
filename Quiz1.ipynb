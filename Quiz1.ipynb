{
  "nbformat": 4,
  "nbformat_minor": 0,
  "metadata": {
    "colab": {
      "name": "Quiz1.ipynb",
      "provenance": [],
      "include_colab_link": true
    },
    "kernelspec": {
      "name": "python3",
      "display_name": "Python 3"
    },
    "language_info": {
      "name": "python"
    }
  },
  "cells": [
    {
      "cell_type": "markdown",
      "metadata": {
        "id": "view-in-github",
        "colab_type": "text"
      },
      "source": [
        "<a href=\"https://colab.research.google.com/github/Phruetti/DPDM65/blob/main/Quiz1.ipynb\" target=\"_parent\"><img src=\"https://colab.research.google.com/assets/colab-badge.svg\" alt=\"Open In Colab\"/></a>"
      ]
    },
    {
      "cell_type": "markdown",
      "source": [
        "# Quiz1\n",
        "เขียน function แสดงความต่างของเวลาโดย input อยู่ในรูปแบบ 'XX:YY:ZZ - AA:BB:CC'\n",
        "\n",
        "และวนลูปแสดงผลของ input ต่อไปนี้\n",
        "\n",
        "* '09:11:50 - 12:30:15'\n",
        "* '13:41:07 - 20:00:18'\n",
        "* '00:00:00 - 23:59:59'\n",
        "* '18:04:11 - 00:00:00'\n",
        "* '21:30:00 - 03:05:15'\n",
        "\n",
        "ตัวอย่าง \n",
        "input ```'00:00:00-01:00:00'``` \n",
        "\n",
        "output ```ช่วงระยะเวลาระหว่าง 00:00:00 ถึง 01:00:00 มีเวลาทั้งหมด 3,600 วินาที```"
      ],
      "metadata": {
        "id": "AyuFpHU_VgDa"
      }
    },
    {
      "cell_type": "code",
      "source": [
        "def Time(a, b, c, d, e, f) :\n",
        "    time1_t = a*60*60 + b*60 + c\n",
        "    time2_tt = d*60*60 + e*60 + f\n",
        "    time = time2_tt - time1_t\n",
        "    print(f'เวลา {a}:{b}:{c} ถึง {d}:{e}:{f} มีเวลา {time} ')\n",
        "Time(0,0,0,1,0,0)"
      ],
      "metadata": {
        "colab": {
          "base_uri": "https://localhost:8080/"
        },
        "id": "hXUjlVkTh9lF",
        "outputId": "2dbc4e57-dd47-4969-f4fd-65abac9a0b49"
      },
      "execution_count": 51,
      "outputs": [
        {
          "output_type": "stream",
          "name": "stdout",
          "text": [
            "เวลา 0:0:0 ถึง 1:0:0 มีเวลา 3600 \n"
          ]
        }
      ]
    },
    {
      "cell_type": "code",
      "source": [
        "def Time(a, b, c, d, e, f) :\n",
        "    time1_t = a*60*60 + b*60 + c\n",
        "    time2_tt = d*60*60 + e*60 + f\n",
        "    time = time2_tt - time1_t\n",
        "    print(f'เวลา {a}:{b}:{c} ถึง {d}:{e}:{f} มีเวลา {time} ')\n",
        "Time(9,11,50,12,30,15)"
      ],
      "metadata": {
        "colab": {
          "base_uri": "https://localhost:8080/"
        },
        "id": "B40o0S8BmaNq",
        "outputId": "75e6ff58-2757-4d7a-df0a-0c6e8185fbfc"
      },
      "execution_count": 52,
      "outputs": [
        {
          "output_type": "stream",
          "name": "stdout",
          "text": [
            "เวลา 9:11:50 ถึง 12:30:15 มีเวลา 11905 \n"
          ]
        }
      ]
    },
    {
      "cell_type": "code",
      "source": [
        "def Time(a, b, c, d, e, f) :\n",
        "    time1_t= a*60*60 + b*60 + c\n",
        "    time2_tt = d*60*60 + e*60 + f\n",
        "    time = time2_tt- time1_t\n",
        "    print(f'เวลา {a}:{b}:{c} ถึง {d}:{e}:{f} มีเวลา {time} ')\n",
        "Time(13,41,7,20,0,18)"
      ],
      "metadata": {
        "colab": {
          "base_uri": "https://localhost:8080/"
        },
        "id": "5pkyTEuJmYt2",
        "outputId": "b1036112-03eb-4d57-b944-5c1743990d75"
      },
      "execution_count": 53,
      "outputs": [
        {
          "output_type": "stream",
          "name": "stdout",
          "text": [
            "เวลา 13:41:7 ถึง 20:0:18 มีเวลา 22751 \n"
          ]
        }
      ]
    },
    {
      "cell_type": "code",
      "source": [
        "def Time(a, b, c, d, e, f) :\n",
        "    time1_t= a*60*60 + b*60 + c\n",
        "    time2_tt = d*60*60 + e*60 + f\n",
        "    time = time2_tt- time1_t\n",
        "    print(f'เวลา {a}:{b}:{c} ถึง {d}:{e}:{f} มีเวลา {time} ')\n",
        "Time(23,59,59,0,0,0)"
      ],
      "metadata": {
        "colab": {
          "base_uri": "https://localhost:8080/"
        },
        "id": "YGfztXyhm6zx",
        "outputId": "eb2b59e0-3b76-4b32-b89e-e774a7a6ffdb"
      },
      "execution_count": 59,
      "outputs": [
        {
          "output_type": "stream",
          "name": "stdout",
          "text": [
            "เวลา 23:59:59 ถึง 0:0:0 มีเวลา -86399 \n"
          ]
        }
      ]
    },
    {
      "cell_type": "code",
      "source": [
        "def Time(a, b, c, d, e, f) :\n",
        "    time1_t= a*60*60 + b*60 + c\n",
        "    time2_tt = d*60*60 + e*60 + f\n",
        "    time = time2_tt- time1_t\n",
        "    print(f'เวลา {a}:{b}:{c} ถึง {d}:{e}:{f} มีเวลา {time} ')\n",
        "Time(18,4,11,24,0,0)"
      ],
      "metadata": {
        "colab": {
          "base_uri": "https://localhost:8080/"
        },
        "id": "ofCSGdfSnb3x",
        "outputId": "a9d1ee76-733f-4b1b-9507-de9bae813f8c"
      },
      "execution_count": 55,
      "outputs": [
        {
          "output_type": "stream",
          "name": "stdout",
          "text": [
            "เวลา 18:4:11 ถึง 24:0:0 มีเวลา 21349 \n"
          ]
        }
      ]
    },
    {
      "cell_type": "code",
      "source": [
        "def Time(a, b, c, d, e, f) :\n",
        "    time1_t= a*60*60 + b*60 + c\n",
        "    time2_tt = d*60*60 + e*60 + f\n",
        "    time = time2_tt- time1_t\n",
        "    print(f'เวลา {a}:{b}:{c} ถึง {d}:{e}:{f} มีเวลา {time} ')\n",
        "Time(21,30,0,3,5,0)"
      ],
      "metadata": {
        "colab": {
          "base_uri": "https://localhost:8080/"
        },
        "id": "4nDiC2z0mq_R",
        "outputId": "4d6f4766-3b89-47b5-da76-9b6998cfa357"
      },
      "execution_count": 57,
      "outputs": [
        {
          "output_type": "stream",
          "name": "stdout",
          "text": [
            "เวลา 21:30:0 ถึง 3:5:0 มีเวลา -66300 \n"
          ]
        }
      ]
    },
    {
      "cell_type": "code",
      "source": [
        "\n"
      ],
      "metadata": {
        "colab": {
          "base_uri": "https://localhost:8080/",
          "height": 166
        },
        "id": "GTx_H8YNjZRm",
        "outputId": "7d25dac0-281a-4ada-c603-bb793ab49d94"
      },
      "execution_count": 37,
      "outputs": [
        {
          "output_type": "error",
          "ename": "NameError",
          "evalue": "ignored",
          "traceback": [
            "\u001b[0;31m---------------------------------------------------------------------------\u001b[0m",
            "\u001b[0;31mNameError\u001b[0m                                 Traceback (most recent call last)",
            "\u001b[0;32m<ipython-input-37-19430b28a031>\u001b[0m in \u001b[0;36m<module>\u001b[0;34m()\u001b[0m\n\u001b[0;32m----> 1\u001b[0;31m \u001b[0mprint\u001b[0m\u001b[0;34m(\u001b[0m\u001b[0;34mf'ช่วงเวลาระหว่าง {X}:{Y}:{Z} ถึง {A}:{B}:{C} มีเวลาทั้งหมด {time} วินาที'\u001b[0m\u001b[0;34m)\u001b[0m\u001b[0;34m\u001b[0m\u001b[0;34m\u001b[0m\u001b[0m\n\u001b[0m",
            "\u001b[0;31mNameError\u001b[0m: name 'X' is not defined"
          ]
        }
      ]
    }
  ]
}