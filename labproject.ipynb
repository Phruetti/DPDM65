{
  "nbformat": 4,
  "nbformat_minor": 0,
  "metadata": {
    "colab": {
      "provenance": [],
      "authorship_tag": "ABX9TyMJj0/ko/GnipqsR+VzcYeB",
      "include_colab_link": true
    },
    "kernelspec": {
      "name": "python3",
      "display_name": "Python 3"
    },
    "language_info": {
      "name": "python"
    }
  },
  "cells": [
    {
      "cell_type": "markdown",
      "metadata": {
        "id": "view-in-github",
        "colab_type": "text"
      },
      "source": [
        "<a href=\"https://colab.research.google.com/github/Phruetti/DPDM65/blob/main/labproject.ipynb\" target=\"_parent\"><img src=\"https://colab.research.google.com/assets/colab-badge.svg\" alt=\"Open In Colab\"/></a>"
      ]
    },
    {
      "cell_type": "code",
      "source": [
        "import os, sys, pickle, glob\n",
        "import os.path as path\n",
        "import argparse\n",
        "import scipy.spatial.distance as spd\n",
        "import scipy as sp\n",
        "\n",
        "\n",
        "def parse_synsetfile(synsetfname):\n",
        "    \"\"\" Read ImageNet 2012 file\n",
        "    \"\"\"\n",
        "    categorylist = open(synsetfname, 'r').readlines()\n",
        "    imageNetIDs = {}\n",
        "    count = 0\n",
        "    for categoryinfo in categorylist:\n",
        "        wnetid = categoryinfo.split(' ')[0]\n",
        "        categoryname = ' '.join(categoryinfo.split(' ')[1:])\n",
        "        imageNetIDs[str(count)] = [wnetid, categoryname]\n",
        "        count += 1\n",
        "\n",
        "    assert len(imageNetIDs.keys()) == 1000\n",
        "    return imageNetIDs\n",
        "\n",
        "def getlabellist(synsetfname):\n",
        "    \"\"\" read sysnset file as python list. Index corresponds to the output that \n",
        "    caffe provides\n",
        "    \"\"\"\n",
        "    \n",
        "    categorylist = open(synsetfname, 'r').readlines()\n",
        "    labellist = [category.split(' ')[0] for category in categorylist]\n",
        "    return labellist\n",
        "\n",
        "\n",
        "def compute_distance(query_channel, channel, mean_vec, distance_type = 'eucos'):\n",
        "    \"\"\" Compute the specified distance type between chanels of mean vector and query image.\n",
        "    In caffe library, FC8 layer consists of 10 channels. Here, we compute distance\n",
        "    of distance of each channel (from query image) with respective channel of\n",
        "    Mean Activation Vector. In the paper, we considered a hybrid distance eucos which\n",
        "    combines euclidean and cosine distance for bouding open space. Alternatively,\n",
        "    other distances such as euclidean or cosine can also be used. \n",
        "    \n",
        "    Input:\n",
        "    --------\n",
        "    query_channel: Particular FC8 channel of query image\n",
        "    channel: channel number under consideration\n",
        "    mean_vec: mean activation vector\n",
        "    Output:\n",
        "    --------\n",
        "    query_distance : Distance between respective channels\n",
        "    \"\"\"\n",
        "\n",
        "    if distance_type == 'eucos':\n",
        "        query_distance = spd.euclidean(mean_vec[channel, :], query_channel)/200. + spd.cosine(mean_vec[channel, :], query_channel)\n",
        "    elif distance_type == 'euclidean':\n",
        "        query_distance = spd.euclidean(mean_vec[channel, :], query_channel)/200.\n",
        "    elif distance_type == 'cosine':\n",
        "        query_distance = spd.cosine(mean_vec[channel, :], query_channel)\n",
        "    else:\n",
        "        print \"distance type not known: enter either of eucos, euclidean or cosine\"\n",
        "    return query_distance"
      ],
      "metadata": {
        "colab": {
          "base_uri": "https://localhost:8080/",
          "height": 131
        },
        "id": "dP2i1oMHvuBh",
        "outputId": "af8b4db2-72a7-4dde-cb62-4e2a9b24df8e"
      },
      "execution_count": 1,
      "outputs": [
        {
          "output_type": "error",
          "ename": "SyntaxError",
          "evalue": "ignored",
          "traceback": [
            "\u001b[0;36m  File \u001b[0;32m\"<ipython-input-1-73d7486d7d16>\"\u001b[0;36m, line \u001b[0;32m58\u001b[0m\n\u001b[0;31m    print \"distance type not known: enter either of eucos, euclidean or cosine\"\u001b[0m\n\u001b[0m                                                                              ^\u001b[0m\n\u001b[0;31mSyntaxError\u001b[0m\u001b[0;31m:\u001b[0m Missing parentheses in call to 'print'. Did you mean print(\"distance type not known: enter either of eucos, euclidean or cosine\")?\n"
          ]
        }
      ]
    },
    {
      "cell_type": "code",
      "source": [
        "import os, sys, pickle, glob\n",
        "import os.path as path\n",
        "import argparse\n",
        "import scipy.spatial.distance as spd\n",
        "import scipy as sp\n",
        "from scipy.io import loadmat\n",
        "\n",
        "from openmax_utils import *\n",
        "\n",
        "try:\n",
        "    import libmr\n",
        "except ImportError:\n",
        "    print \"LibMR not installed or libmr.so not found\"\n",
        "    print \"Install libmr: cd libMR/; ./compile.sh\"\n",
        "    sys.exit()\n",
        "\n",
        "#---------------------------------------------------------------------------------\n",
        "NCHANNELS = 10\n",
        "\n",
        "#---------------------------------------------------------------------------------\n",
        "def weibull_tailfitting(meanfiles_path, distancefiles_path, labellist, \n",
        "                        tailsize = 20, \n",
        "                        distance_type = 'eucos'):\n",
        "                        \n",
        "    \"\"\" Read through distance files, mean vector and fit weibull model for each category\n",
        "    Input:\n",
        "    --------------------------------\n",
        "    meanfiles_path : contains path to files with pre-computed mean-activation vector\n",
        "    distancefiles_path : contains path to files with pre-computed distances for images from MAV\n",
        "    labellist : ImageNet 2012 labellist\n",
        "    Output:\n",
        "    --------------------------------\n",
        "    weibull_model : Perform EVT based analysis using tails of distances and save\n",
        "                    weibull model parameters for re-adjusting softmax scores    \n",
        "    \"\"\"\n",
        "    \n",
        "    weibull_model = {}\n",
        "    # for each category, read meanfile, distance file, and perform weibull fitting\n",
        "    for category in labellist:\n",
        "        weibull_model[category] = {}\n",
        "        distance_scores = loadmat('%s/%s_distances.mat' %(distancefiles_path, category))[distance_type]\n",
        "        meantrain_vec = loadmat('%s/%s.mat' %(meanfiles_path, category))\n",
        "\n",
        "        weibull_model[category]['distances_%s'%distance_type] = distance_scores\n",
        "        weibull_model[category]['mean_vec'] = meantrain_vec\n",
        "        weibull_model[category]['weibull_model'] = []\n",
        "        for channel in range(NCHANNELS):\n",
        "            mr = libmr.MR()\n",
        "            tailtofit = sorted(distance_scores[channel, :])[-tailsize:]\n",
        "            mr.fit_high(tailtofit, len(tailtofit))\n",
        "            weibull_model[category]['weibull_model'] += [mr]\n",
        "\n",
        "    return weibull_model\n",
        "\n",
        "#---------------------------------------------------------------------------------\n",
        "def query_weibull(category_name, weibull_model, distance_type = 'eucos'):\n",
        "    \"\"\" Query through dictionary for Weibull model.\n",
        "    Return in the order: [mean_vec, distances, weibull_model]\n",
        "    \n",
        "    Input:\n",
        "    ------------------------------\n",
        "    category_name : name of ImageNet category in WNET format. E.g. n01440764\n",
        "    weibull_model: dictonary of weibull models for \n",
        "    \"\"\"\n",
        "\n",
        "    category_weibull = []\n",
        "    category_weibull += [weibull_model[category_name]['mean_vec'][category_name]]\n",
        "    category_weibull += [weibull_model[category_name]['distances_%s' %distance_type]]\n",
        "    category_weibull += [weibull_model[category_name]['weibull_model']]\n",
        "\n",
        "    return category_weibull "
      ],
      "metadata": {
        "colab": {
          "base_uri": "https://localhost:8080/",
          "height": 131
        },
        "id": "5nrZO_1PxFGi",
        "outputId": "7149d1d6-ce60-470b-af4f-2afa84c1c18a"
      },
      "execution_count": 2,
      "outputs": [
        {
          "output_type": "error",
          "ename": "SyntaxError",
          "evalue": "ignored",
          "traceback": [
            "\u001b[0;36m  File \u001b[0;32m\"<ipython-input-2-0cae83183cf1>\"\u001b[0;36m, line \u001b[0;32m13\u001b[0m\n\u001b[0;31m    print \"LibMR not installed or libmr.so not found\"\u001b[0m\n\u001b[0m                                                    ^\u001b[0m\n\u001b[0;31mSyntaxError\u001b[0m\u001b[0;31m:\u001b[0m Missing parentheses in call to 'print'. Did you mean print(\"LibMR not installed or libmr.so not found\")?\n"
          ]
        }
      ]
    }
  ]
}